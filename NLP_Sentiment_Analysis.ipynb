{
  "metadata": {
    "kernelspec": {
      "language": "python",
      "display_name": "Python 3",
      "name": "python3"
    },
    "language_info": {
      "name": "python",
      "version": "3.10.13",
      "mimetype": "text/x-python",
      "codemirror_mode": {
        "name": "ipython",
        "version": 3
      },
      "pygments_lexer": "ipython3",
      "nbconvert_exporter": "python",
      "file_extension": ".py"
    },
    "kaggle": {
      "accelerator": "gpu",
      "dataSources": [
        {
          "sourceId": 2510329,
          "sourceType": "datasetVersion",
          "datasetId": 1520310
        }
      ],
      "dockerImageVersionId": 30747,
      "isInternetEnabled": true,
      "language": "python",
      "sourceType": "notebook",
      "isGpuEnabled": true
    },
    "colab": {
      "name": "NLP-Sentiment Analysis",
      "provenance": [],
      "include_colab_link": true
    }
  },
  "nbformat_minor": 0,
  "nbformat": 4,
  "cells": [
    {
      "cell_type": "markdown",
      "metadata": {
        "id": "view-in-github",
        "colab_type": "text"
      },
      "source": [
        "<a href=\"https://colab.research.google.com/github/ziadelsharawy/Test/blob/main/NLP_Sentiment_Analysis.ipynb\" target=\"_parent\"><img src=\"https://colab.research.google.com/assets/colab-badge.svg\" alt=\"Open In Colab\"/></a>"
      ]
    },
    {
      "cell_type": "code",
      "source": [
        "!pip install nltk\n"
      ],
      "metadata": {
        "execution": {
          "iopub.status.busy": "2024-08-09T12:06:40.051773Z",
          "iopub.execute_input": "2024-08-09T12:06:40.052225Z",
          "iopub.status.idle": "2024-08-09T12:06:52.311234Z",
          "shell.execute_reply.started": "2024-08-09T12:06:40.05219Z",
          "shell.execute_reply": "2024-08-09T12:06:52.310099Z"
        },
        "trusted": true,
        "id": "r_kyadlRZb1N",
        "outputId": "9e3fb1b2-41ba-4c06-d0f7-a5eaf5292ec3"
      },
      "execution_count": null,
      "outputs": [
        {
          "name": "stderr",
          "text": "/opt/conda/lib/python3.10/pty.py:89: RuntimeWarning: os.fork() was called. os.fork() is incompatible with multithreaded code, and JAX is multithreaded, so this will likely lead to a deadlock.\n  pid, fd = os.forkpty()\n",
          "output_type": "stream"
        },
        {
          "name": "stdout",
          "text": "Requirement already satisfied: nltk in /opt/conda/lib/python3.10/site-packages (3.2.4)\nRequirement already satisfied: six in /opt/conda/lib/python3.10/site-packages (from nltk) (1.16.0)\n",
          "output_type": "stream"
        }
      ]
    },
    {
      "cell_type": "code",
      "source": [
        "pip install --upgrade tensorflow\n"
      ],
      "metadata": {
        "execution": {
          "iopub.status.busy": "2024-08-09T12:06:52.313172Z",
          "iopub.execute_input": "2024-08-09T12:06:52.313487Z",
          "iopub.status.idle": "2024-08-09T12:07:04.944569Z",
          "shell.execute_reply.started": "2024-08-09T12:06:52.313458Z",
          "shell.execute_reply": "2024-08-09T12:07:04.943351Z"
        },
        "trusted": true,
        "id": "HA1hRAATZb1O",
        "outputId": "aa312860-591b-4afe-88f5-4dfbb4741d83"
      },
      "execution_count": null,
      "outputs": [
        {
          "name": "stdout",
          "text": "Requirement already satisfied: tensorflow in /opt/conda/lib/python3.10/site-packages (2.17.0)\nRequirement already satisfied: absl-py>=1.0.0 in /opt/conda/lib/python3.10/site-packages (from tensorflow) (1.4.0)\nRequirement already satisfied: astunparse>=1.6.0 in /opt/conda/lib/python3.10/site-packages (from tensorflow) (1.6.3)\nRequirement already satisfied: flatbuffers>=24.3.25 in /opt/conda/lib/python3.10/site-packages (from tensorflow) (24.3.25)\nRequirement already satisfied: gast!=0.5.0,!=0.5.1,!=0.5.2,>=0.2.1 in /opt/conda/lib/python3.10/site-packages (from tensorflow) (0.5.4)\nRequirement already satisfied: google-pasta>=0.1.1 in /opt/conda/lib/python3.10/site-packages (from tensorflow) (0.2.0)\nRequirement already satisfied: h5py>=3.10.0 in /opt/conda/lib/python3.10/site-packages (from tensorflow) (3.10.0)\nRequirement already satisfied: libclang>=13.0.0 in /opt/conda/lib/python3.10/site-packages (from tensorflow) (16.0.6)\nRequirement already satisfied: ml-dtypes<0.5.0,>=0.3.1 in /opt/conda/lib/python3.10/site-packages (from tensorflow) (0.4.0)\nRequirement already satisfied: opt-einsum>=2.3.2 in /opt/conda/lib/python3.10/site-packages (from tensorflow) (3.3.0)\nRequirement already satisfied: packaging in /opt/conda/lib/python3.10/site-packages (from tensorflow) (21.3)\nRequirement already satisfied: protobuf!=4.21.0,!=4.21.1,!=4.21.2,!=4.21.3,!=4.21.4,!=4.21.5,<5.0.0dev,>=3.20.3 in /opt/conda/lib/python3.10/site-packages (from tensorflow) (3.20.3)\nRequirement already satisfied: requests<3,>=2.21.0 in /opt/conda/lib/python3.10/site-packages (from tensorflow) (2.32.3)\nRequirement already satisfied: setuptools in /opt/conda/lib/python3.10/site-packages (from tensorflow) (69.0.3)\nRequirement already satisfied: six>=1.12.0 in /opt/conda/lib/python3.10/site-packages (from tensorflow) (1.16.0)\nRequirement already satisfied: termcolor>=1.1.0 in /opt/conda/lib/python3.10/site-packages (from tensorflow) (2.4.0)\nRequirement already satisfied: typing-extensions>=3.6.6 in /opt/conda/lib/python3.10/site-packages (from tensorflow) (4.9.0)\nRequirement already satisfied: wrapt>=1.11.0 in /opt/conda/lib/python3.10/site-packages (from tensorflow) (1.14.1)\nRequirement already satisfied: grpcio<2.0,>=1.24.3 in /opt/conda/lib/python3.10/site-packages (from tensorflow) (1.60.0)\nRequirement already satisfied: tensorboard<2.18,>=2.17 in /opt/conda/lib/python3.10/site-packages (from tensorflow) (2.17.0)\nRequirement already satisfied: keras>=3.2.0 in /opt/conda/lib/python3.10/site-packages (from tensorflow) (3.4.1)\nRequirement already satisfied: tensorflow-io-gcs-filesystem>=0.23.1 in /opt/conda/lib/python3.10/site-packages (from tensorflow) (0.35.0)\nRequirement already satisfied: numpy<2.0.0,>=1.23.5 in /opt/conda/lib/python3.10/site-packages (from tensorflow) (1.26.4)\nRequirement already satisfied: wheel<1.0,>=0.23.0 in /opt/conda/lib/python3.10/site-packages (from astunparse>=1.6.0->tensorflow) (0.42.0)\nRequirement already satisfied: rich in /opt/conda/lib/python3.10/site-packages (from keras>=3.2.0->tensorflow) (13.7.0)\nRequirement already satisfied: namex in /opt/conda/lib/python3.10/site-packages (from keras>=3.2.0->tensorflow) (0.0.8)\nRequirement already satisfied: optree in /opt/conda/lib/python3.10/site-packages (from keras>=3.2.0->tensorflow) (0.12.1)\nRequirement already satisfied: charset-normalizer<4,>=2 in /opt/conda/lib/python3.10/site-packages (from requests<3,>=2.21.0->tensorflow) (3.3.2)\nRequirement already satisfied: idna<4,>=2.5 in /opt/conda/lib/python3.10/site-packages (from requests<3,>=2.21.0->tensorflow) (3.6)\nRequirement already satisfied: urllib3<3,>=1.21.1 in /opt/conda/lib/python3.10/site-packages (from requests<3,>=2.21.0->tensorflow) (1.26.18)\nRequirement already satisfied: certifi>=2017.4.17 in /opt/conda/lib/python3.10/site-packages (from requests<3,>=2.21.0->tensorflow) (2024.7.4)\nRequirement already satisfied: markdown>=2.6.8 in /opt/conda/lib/python3.10/site-packages (from tensorboard<2.18,>=2.17->tensorflow) (3.5.2)\nRequirement already satisfied: tensorboard-data-server<0.8.0,>=0.7.0 in /opt/conda/lib/python3.10/site-packages (from tensorboard<2.18,>=2.17->tensorflow) (0.7.2)\nRequirement already satisfied: werkzeug>=1.0.1 in /opt/conda/lib/python3.10/site-packages (from tensorboard<2.18,>=2.17->tensorflow) (3.0.3)\nRequirement already satisfied: pyparsing!=3.0.5,>=2.0.2 in /opt/conda/lib/python3.10/site-packages (from packaging->tensorflow) (3.1.1)\nRequirement already satisfied: MarkupSafe>=2.1.1 in /opt/conda/lib/python3.10/site-packages (from werkzeug>=1.0.1->tensorboard<2.18,>=2.17->tensorflow) (2.1.3)\nRequirement already satisfied: markdown-it-py>=2.2.0 in /opt/conda/lib/python3.10/site-packages (from rich->keras>=3.2.0->tensorflow) (3.0.0)\nRequirement already satisfied: pygments<3.0.0,>=2.13.0 in /opt/conda/lib/python3.10/site-packages (from rich->keras>=3.2.0->tensorflow) (2.17.2)\nRequirement already satisfied: mdurl~=0.1 in /opt/conda/lib/python3.10/site-packages (from markdown-it-py>=2.2.0->rich->keras>=3.2.0->tensorflow) (0.1.2)\nNote: you may need to restart the kernel to use updated packages.\n",
          "output_type": "stream"
        }
      ]
    },
    {
      "cell_type": "code",
      "source": [
        "import pandas as pd\n",
        "import numpy as np\n",
        "import matplotlib.pyplot as plt\n",
        "import seaborn as sns\n",
        "import nltk\n",
        "from nltk.corpus import stopwords\n",
        "import re\n",
        "from nltk.stem import PorterStemmer\n",
        "from sklearn.feature_extraction.text import CountVectorizer\n",
        "from sklearn.preprocessing import LabelEncoder\n",
        "from sklearn.model_selection import train_test_split\n",
        "from tensorflow.keras.models import Sequential\n",
        "from tensorflow.keras.layers import LSTM, Dense, Embedding,SimpleRNN,SpatialDropout1D\n",
        "from sklearn.metrics import classification_report, confusion_matrix, accuracy_score\n",
        "from tensorflow.keras.preprocessing.text import Tokenizer\n",
        "from tensorflow.keras.preprocessing.sequence import pad_sequences\n",
        "from tensorflow.keras.utils import to_categorical\n",
        "\n",
        "nltk.download('stopwords')"
      ],
      "metadata": {
        "_uuid": "8f2839f25d086af736a60e9eeb907d3b93b6e0e5",
        "_cell_guid": "b1076dfc-b9ad-4769-8c92-a6c4dae69d19",
        "execution": {
          "iopub.status.busy": "2024-08-09T12:07:04.946483Z",
          "iopub.execute_input": "2024-08-09T12:07:04.947019Z",
          "iopub.status.idle": "2024-08-09T12:07:04.958389Z",
          "shell.execute_reply.started": "2024-08-09T12:07:04.946977Z",
          "shell.execute_reply": "2024-08-09T12:07:04.957473Z"
        },
        "trusted": true,
        "id": "CHOFsv0JZb1O",
        "outputId": "5a86be65-1e55-4edd-f6f3-04fd42ebce99"
      },
      "execution_count": null,
      "outputs": [
        {
          "name": "stdout",
          "text": "[nltk_data] Downloading package stopwords to /usr/share/nltk_data...\n[nltk_data]   Package stopwords is already up-to-date!\n",
          "output_type": "stream"
        },
        {
          "execution_count": 104,
          "output_type": "execute_result",
          "data": {
            "text/plain": "True"
          },
          "metadata": {}
        }
      ]
    },
    {
      "cell_type": "code",
      "source": [
        "cols_names = ['Tweet_ID','Company','Sentiment','Tweet']\n",
        "df = pd.read_csv(r\"/kaggle/input/twitter-entity-sentiment-analysis/twitter_training.csv\",names=cols_names)\n",
        "val_data = pd.read_csv(r\"/kaggle/input/twitter-entity-sentiment-analysis/twitter_validation.csv\",names=cols_names)\n",
        "df.head()"
      ],
      "metadata": {
        "execution": {
          "iopub.status.busy": "2024-08-09T12:07:04.960683Z",
          "iopub.execute_input": "2024-08-09T12:07:04.960972Z",
          "iopub.status.idle": "2024-08-09T12:07:05.197711Z",
          "shell.execute_reply.started": "2024-08-09T12:07:04.960928Z",
          "shell.execute_reply": "2024-08-09T12:07:05.196804Z"
        },
        "trusted": true,
        "id": "I0WcPrVgZb1P",
        "outputId": "de36bdc7-7391-4ff6-908e-39230b6eec8d"
      },
      "execution_count": null,
      "outputs": [
        {
          "execution_count": 105,
          "output_type": "execute_result",
          "data": {
            "text/plain": "   Tweet_ID      Company Sentiment  \\\n0      2401  Borderlands  Positive   \n1      2401  Borderlands  Positive   \n2      2401  Borderlands  Positive   \n3      2401  Borderlands  Positive   \n4      2401  Borderlands  Positive   \n\n                                               Tweet  \n0  im getting on borderlands and i will murder yo...  \n1  I am coming to the borders and I will kill you...  \n2  im getting on borderlands and i will kill you ...  \n3  im coming on borderlands and i will murder you...  \n4  im getting on borderlands 2 and i will murder ...  ",
            "text/html": "<div>\n<style scoped>\n    .dataframe tbody tr th:only-of-type {\n        vertical-align: middle;\n    }\n\n    .dataframe tbody tr th {\n        vertical-align: top;\n    }\n\n    .dataframe thead th {\n        text-align: right;\n    }\n</style>\n<table border=\"1\" class=\"dataframe\">\n  <thead>\n    <tr style=\"text-align: right;\">\n      <th></th>\n      <th>Tweet_ID</th>\n      <th>Company</th>\n      <th>Sentiment</th>\n      <th>Tweet</th>\n    </tr>\n  </thead>\n  <tbody>\n    <tr>\n      <th>0</th>\n      <td>2401</td>\n      <td>Borderlands</td>\n      <td>Positive</td>\n      <td>im getting on borderlands and i will murder yo...</td>\n    </tr>\n    <tr>\n      <th>1</th>\n      <td>2401</td>\n      <td>Borderlands</td>\n      <td>Positive</td>\n      <td>I am coming to the borders and I will kill you...</td>\n    </tr>\n    <tr>\n      <th>2</th>\n      <td>2401</td>\n      <td>Borderlands</td>\n      <td>Positive</td>\n      <td>im getting on borderlands and i will kill you ...</td>\n    </tr>\n    <tr>\n      <th>3</th>\n      <td>2401</td>\n      <td>Borderlands</td>\n      <td>Positive</td>\n      <td>im coming on borderlands and i will murder you...</td>\n    </tr>\n    <tr>\n      <th>4</th>\n      <td>2401</td>\n      <td>Borderlands</td>\n      <td>Positive</td>\n      <td>im getting on borderlands 2 and i will murder ...</td>\n    </tr>\n  </tbody>\n</table>\n</div>"
          },
          "metadata": {}
        }
      ]
    },
    {
      "cell_type": "code",
      "source": [
        "df.tail()"
      ],
      "metadata": {
        "execution": {
          "iopub.status.busy": "2024-08-09T12:07:05.198971Z",
          "iopub.execute_input": "2024-08-09T12:07:05.199269Z",
          "iopub.status.idle": "2024-08-09T12:07:05.209347Z",
          "shell.execute_reply.started": "2024-08-09T12:07:05.199243Z",
          "shell.execute_reply": "2024-08-09T12:07:05.208464Z"
        },
        "trusted": true,
        "id": "3UutfWD6Zb1P",
        "outputId": "9bb3181a-ca3f-46f3-8977-9ed48f64738b"
      },
      "execution_count": null,
      "outputs": [
        {
          "execution_count": 106,
          "output_type": "execute_result",
          "data": {
            "text/plain": "       Tweet_ID Company Sentiment  \\\n74677      9200  Nvidia  Positive   \n74678      9200  Nvidia  Positive   \n74679      9200  Nvidia  Positive   \n74680      9200  Nvidia  Positive   \n74681      9200  Nvidia  Positive   \n\n                                                   Tweet  \n74677  Just realized that the Windows partition of my...  \n74678  Just realized that my Mac window partition is ...  \n74679  Just realized the windows partition of my Mac ...  \n74680  Just realized between the windows partition of...  \n74681  Just like the windows partition of my Mac is l...  ",
            "text/html": "<div>\n<style scoped>\n    .dataframe tbody tr th:only-of-type {\n        vertical-align: middle;\n    }\n\n    .dataframe tbody tr th {\n        vertical-align: top;\n    }\n\n    .dataframe thead th {\n        text-align: right;\n    }\n</style>\n<table border=\"1\" class=\"dataframe\">\n  <thead>\n    <tr style=\"text-align: right;\">\n      <th></th>\n      <th>Tweet_ID</th>\n      <th>Company</th>\n      <th>Sentiment</th>\n      <th>Tweet</th>\n    </tr>\n  </thead>\n  <tbody>\n    <tr>\n      <th>74677</th>\n      <td>9200</td>\n      <td>Nvidia</td>\n      <td>Positive</td>\n      <td>Just realized that the Windows partition of my...</td>\n    </tr>\n    <tr>\n      <th>74678</th>\n      <td>9200</td>\n      <td>Nvidia</td>\n      <td>Positive</td>\n      <td>Just realized that my Mac window partition is ...</td>\n    </tr>\n    <tr>\n      <th>74679</th>\n      <td>9200</td>\n      <td>Nvidia</td>\n      <td>Positive</td>\n      <td>Just realized the windows partition of my Mac ...</td>\n    </tr>\n    <tr>\n      <th>74680</th>\n      <td>9200</td>\n      <td>Nvidia</td>\n      <td>Positive</td>\n      <td>Just realized between the windows partition of...</td>\n    </tr>\n    <tr>\n      <th>74681</th>\n      <td>9200</td>\n      <td>Nvidia</td>\n      <td>Positive</td>\n      <td>Just like the windows partition of my Mac is l...</td>\n    </tr>\n  </tbody>\n</table>\n</div>"
          },
          "metadata": {}
        }
      ]
    },
    {
      "cell_type": "code",
      "source": [
        "val_data.head()"
      ],
      "metadata": {
        "execution": {
          "iopub.status.busy": "2024-08-09T12:07:05.210427Z",
          "iopub.execute_input": "2024-08-09T12:07:05.21068Z",
          "iopub.status.idle": "2024-08-09T12:07:05.225817Z",
          "shell.execute_reply.started": "2024-08-09T12:07:05.210658Z",
          "shell.execute_reply": "2024-08-09T12:07:05.225008Z"
        },
        "trusted": true,
        "id": "2UI4wrXyZb1P",
        "outputId": "7935caab-b663-4317-fb38-2493d1185b81"
      },
      "execution_count": null,
      "outputs": [
        {
          "execution_count": 107,
          "output_type": "execute_result",
          "data": {
            "text/plain": "   Tweet_ID    Company   Sentiment  \\\n0      3364   Facebook  Irrelevant   \n1       352     Amazon     Neutral   \n2      8312  Microsoft    Negative   \n3      4371      CS-GO    Negative   \n4      4433     Google     Neutral   \n\n                                               Tweet  \n0  I mentioned on Facebook that I was struggling ...  \n1  BBC News - Amazon boss Jeff Bezos rejects clai...  \n2  @Microsoft Why do I pay for WORD when it funct...  \n3  CSGO matchmaking is so full of closet hacking,...  \n4  Now the President is slapping Americans in the...  ",
            "text/html": "<div>\n<style scoped>\n    .dataframe tbody tr th:only-of-type {\n        vertical-align: middle;\n    }\n\n    .dataframe tbody tr th {\n        vertical-align: top;\n    }\n\n    .dataframe thead th {\n        text-align: right;\n    }\n</style>\n<table border=\"1\" class=\"dataframe\">\n  <thead>\n    <tr style=\"text-align: right;\">\n      <th></th>\n      <th>Tweet_ID</th>\n      <th>Company</th>\n      <th>Sentiment</th>\n      <th>Tweet</th>\n    </tr>\n  </thead>\n  <tbody>\n    <tr>\n      <th>0</th>\n      <td>3364</td>\n      <td>Facebook</td>\n      <td>Irrelevant</td>\n      <td>I mentioned on Facebook that I was struggling ...</td>\n    </tr>\n    <tr>\n      <th>1</th>\n      <td>352</td>\n      <td>Amazon</td>\n      <td>Neutral</td>\n      <td>BBC News - Amazon boss Jeff Bezos rejects clai...</td>\n    </tr>\n    <tr>\n      <th>2</th>\n      <td>8312</td>\n      <td>Microsoft</td>\n      <td>Negative</td>\n      <td>@Microsoft Why do I pay for WORD when it funct...</td>\n    </tr>\n    <tr>\n      <th>3</th>\n      <td>4371</td>\n      <td>CS-GO</td>\n      <td>Negative</td>\n      <td>CSGO matchmaking is so full of closet hacking,...</td>\n    </tr>\n    <tr>\n      <th>4</th>\n      <td>4433</td>\n      <td>Google</td>\n      <td>Neutral</td>\n      <td>Now the President is slapping Americans in the...</td>\n    </tr>\n  </tbody>\n</table>\n</div>"
          },
          "metadata": {}
        }
      ]
    },
    {
      "cell_type": "code",
      "source": [
        "df.shape"
      ],
      "metadata": {
        "execution": {
          "iopub.status.busy": "2024-08-09T12:07:05.227018Z",
          "iopub.execute_input": "2024-08-09T12:07:05.227368Z",
          "iopub.status.idle": "2024-08-09T12:07:05.236859Z",
          "shell.execute_reply.started": "2024-08-09T12:07:05.227338Z",
          "shell.execute_reply": "2024-08-09T12:07:05.235992Z"
        },
        "trusted": true,
        "id": "Q7hlxkliZb1P",
        "outputId": "c510d865-2d3d-4d30-bec4-fda71ec421ca"
      },
      "execution_count": null,
      "outputs": [
        {
          "execution_count": 108,
          "output_type": "execute_result",
          "data": {
            "text/plain": "(74682, 4)"
          },
          "metadata": {}
        }
      ]
    },
    {
      "cell_type": "code",
      "source": [
        "val_data.shape"
      ],
      "metadata": {
        "execution": {
          "iopub.status.busy": "2024-08-09T12:07:05.238057Z",
          "iopub.execute_input": "2024-08-09T12:07:05.238373Z",
          "iopub.status.idle": "2024-08-09T12:07:05.248144Z",
          "shell.execute_reply.started": "2024-08-09T12:07:05.238345Z",
          "shell.execute_reply": "2024-08-09T12:07:05.247301Z"
        },
        "trusted": true,
        "id": "07jgfytFZb1P",
        "outputId": "daa405d8-55b5-437e-8f7a-c46183ff8e7c"
      },
      "execution_count": null,
      "outputs": [
        {
          "execution_count": 109,
          "output_type": "execute_result",
          "data": {
            "text/plain": "(1000, 4)"
          },
          "metadata": {}
        }
      ]
    },
    {
      "cell_type": "code",
      "source": [
        "df[\"Sentiment\"].unique()"
      ],
      "metadata": {
        "execution": {
          "iopub.status.busy": "2024-08-09T12:07:05.249219Z",
          "iopub.execute_input": "2024-08-09T12:07:05.249487Z",
          "iopub.status.idle": "2024-08-09T12:07:05.266244Z",
          "shell.execute_reply.started": "2024-08-09T12:07:05.249465Z",
          "shell.execute_reply": "2024-08-09T12:07:05.265461Z"
        },
        "trusted": true,
        "id": "6fdpA7Z_Zb1Q",
        "outputId": "d26e3cd6-5dff-421e-c819-4839a0d645b5"
      },
      "execution_count": null,
      "outputs": [
        {
          "execution_count": 110,
          "output_type": "execute_result",
          "data": {
            "text/plain": "array(['Positive', 'Neutral', 'Negative', 'Irrelevant'], dtype=object)"
          },
          "metadata": {}
        }
      ]
    },
    {
      "cell_type": "code",
      "source": [
        "df[\"Company\"].unique()"
      ],
      "metadata": {
        "execution": {
          "iopub.status.busy": "2024-08-09T12:07:05.269646Z",
          "iopub.execute_input": "2024-08-09T12:07:05.270128Z",
          "iopub.status.idle": "2024-08-09T12:07:05.281445Z",
          "shell.execute_reply.started": "2024-08-09T12:07:05.270105Z",
          "shell.execute_reply": "2024-08-09T12:07:05.280629Z"
        },
        "trusted": true,
        "id": "4RPcsTyEZb1Q",
        "outputId": "ae15bfdc-6718-40d5-b7b4-ac4d5ddb00fd"
      },
      "execution_count": null,
      "outputs": [
        {
          "execution_count": 111,
          "output_type": "execute_result",
          "data": {
            "text/plain": "array(['Borderlands', 'CallOfDutyBlackopsColdWar', 'Amazon', 'Overwatch',\n       'Xbox(Xseries)', 'NBA2K', 'Dota2', 'PlayStation5(PS5)',\n       'WorldOfCraft', 'CS-GO', 'Google', 'AssassinsCreed', 'ApexLegends',\n       'LeagueOfLegends', 'Fortnite', 'Microsoft', 'Hearthstone',\n       'Battlefield', 'PlayerUnknownsBattlegrounds(PUBG)', 'Verizon',\n       'HomeDepot', 'FIFA', 'RedDeadRedemption(RDR)', 'CallOfDuty',\n       'TomClancysRainbowSix', 'Facebook', 'GrandTheftAuto(GTA)',\n       'MaddenNFL', 'johnson&johnson', 'Cyberpunk2077',\n       'TomClancysGhostRecon', 'Nvidia'], dtype=object)"
          },
          "metadata": {}
        }
      ]
    },
    {
      "cell_type": "code",
      "source": [
        "df.info()"
      ],
      "metadata": {
        "execution": {
          "iopub.status.busy": "2024-08-09T12:07:05.282541Z",
          "iopub.execute_input": "2024-08-09T12:07:05.282879Z",
          "iopub.status.idle": "2024-08-09T12:07:05.3167Z",
          "shell.execute_reply.started": "2024-08-09T12:07:05.282849Z",
          "shell.execute_reply": "2024-08-09T12:07:05.31587Z"
        },
        "trusted": true,
        "id": "CmdHvbCTZb1Q",
        "outputId": "11d62895-5c29-4f61-e4fe-fcfb0cc88e71"
      },
      "execution_count": null,
      "outputs": [
        {
          "name": "stdout",
          "text": "<class 'pandas.core.frame.DataFrame'>\nRangeIndex: 74682 entries, 0 to 74681\nData columns (total 4 columns):\n #   Column     Non-Null Count  Dtype \n---  ------     --------------  ----- \n 0   Tweet_ID   74682 non-null  int64 \n 1   Company    74682 non-null  object\n 2   Sentiment  74682 non-null  object\n 3   Tweet      73996 non-null  object\ndtypes: int64(1), object(3)\nmemory usage: 2.3+ MB\n",
          "output_type": "stream"
        }
      ]
    },
    {
      "cell_type": "code",
      "source": [
        "df[\"Sentiment\"].value_counts()"
      ],
      "metadata": {
        "execution": {
          "iopub.status.busy": "2024-08-09T12:07:05.317768Z",
          "iopub.execute_input": "2024-08-09T12:07:05.318113Z",
          "iopub.status.idle": "2024-08-09T12:07:05.334459Z",
          "shell.execute_reply.started": "2024-08-09T12:07:05.318083Z",
          "shell.execute_reply": "2024-08-09T12:07:05.333619Z"
        },
        "trusted": true,
        "id": "P_jfn_akZb1Q",
        "outputId": "a349c056-4b62-4dee-8516-f1f930ca7bad"
      },
      "execution_count": null,
      "outputs": [
        {
          "execution_count": 113,
          "output_type": "execute_result",
          "data": {
            "text/plain": "Sentiment\nNegative      22542\nPositive      20832\nNeutral       18318\nIrrelevant    12990\nName: count, dtype: int64"
          },
          "metadata": {}
        }
      ]
    },
    {
      "cell_type": "code",
      "source": [
        "sentiment_counts = df[\"Sentiment\"].value_counts()\n",
        "sentiment_counts.plot.pie(autopct='%1.1f%%', startangle=90, colors=sns.color_palette(\"Set3\"))\n",
        "plt.title(\"Sentiment Distribution\")\n",
        "plt.ylabel(\"\")\n",
        "plt.show()"
      ],
      "metadata": {
        "execution": {
          "iopub.status.busy": "2024-08-09T12:07:05.335643Z",
          "iopub.execute_input": "2024-08-09T12:07:05.335995Z",
          "iopub.status.idle": "2024-08-09T12:07:05.484443Z",
          "shell.execute_reply.started": "2024-08-09T12:07:05.335966Z",
          "shell.execute_reply": "2024-08-09T12:07:05.48351Z"
        },
        "trusted": true,
        "id": "m6HVxqZVZb1Q",
        "outputId": "74949064-d59c-4920-8d01-a8e6d55bf59e"
      },
      "execution_count": null,
      "outputs": [
        {
          "output_type": "display_data",
          "data": {
            "text/plain": "<Figure size 640x480 with 1 Axes>",
            "image/png": "[encoded data removed]"
          },
          "metadata": {}
        }
      ]
    },
    {
      "cell_type": "code",
      "source": [
        "df = df.drop(\"Tweet_ID\", axis=1)\n",
        "df = df.drop(\"Company\", axis=1)\n",
        "df.head()"
      ],
      "metadata": {
        "execution": {
          "iopub.status.busy": "2024-08-09T12:07:05.48563Z",
          "iopub.execute_input": "2024-08-09T12:07:05.486542Z",
          "iopub.status.idle": "2024-08-09T12:07:05.509054Z",
          "shell.execute_reply.started": "2024-08-09T12:07:05.486508Z",
          "shell.execute_reply": "2024-08-09T12:07:05.508018Z"
        },
        "trusted": true,
        "id": "OYCzLsCHZb1Q",
        "outputId": "b260de24-b72d-4d6a-cd35-663e439cbb4c"
      },
      "execution_count": null,
      "outputs": [
        {
          "execution_count": 115,
          "output_type": "execute_result",
          "data": {
            "text/plain": "  Sentiment                                              Tweet\n0  Positive  im getting on borderlands and i will murder yo...\n1  Positive  I am coming to the borders and I will kill you...\n2  Positive  im getting on borderlands and i will kill you ...\n3  Positive  im coming on borderlands and i will murder you...\n4  Positive  im getting on borderlands 2 and i will murder ...",
            "text/html": "<div>\n<style scoped>\n    .dataframe tbody tr th:only-of-type {\n        vertical-align: middle;\n    }\n\n    .dataframe tbody tr th {\n        vertical-align: top;\n    }\n\n    .dataframe thead th {\n        text-align: right;\n    }\n</style>\n<table border=\"1\" class=\"dataframe\">\n  <thead>\n    <tr style=\"text-align: right;\">\n      <th></th>\n      <th>Sentiment</th>\n      <th>Tweet</th>\n    </tr>\n  </thead>\n  <tbody>\n    <tr>\n      <th>0</th>\n      <td>Positive</td>\n      <td>im getting on borderlands and i will murder yo...</td>\n    </tr>\n    <tr>\n      <th>1</th>\n      <td>Positive</td>\n      <td>I am coming to the borders and I will kill you...</td>\n    </tr>\n    <tr>\n      <th>2</th>\n      <td>Positive</td>\n      <td>im getting on borderlands and i will kill you ...</td>\n    </tr>\n    <tr>\n      <th>3</th>\n      <td>Positive</td>\n      <td>im coming on borderlands and i will murder you...</td>\n    </tr>\n    <tr>\n      <th>4</th>\n      <td>Positive</td>\n      <td>im getting on borderlands 2 and i will murder ...</td>\n    </tr>\n  </tbody>\n</table>\n</div>"
          },
          "metadata": {}
        }
      ]
    },
    {
      "cell_type": "code",
      "source": [
        "df.isnull().sum()"
      ],
      "metadata": {
        "execution": {
          "iopub.status.busy": "2024-08-09T12:07:05.510386Z",
          "iopub.execute_input": "2024-08-09T12:07:05.511284Z",
          "iopub.status.idle": "2024-08-09T12:07:05.546496Z",
          "shell.execute_reply.started": "2024-08-09T12:07:05.511231Z",
          "shell.execute_reply": "2024-08-09T12:07:05.545294Z"
        },
        "trusted": true,
        "id": "FUT49VSGZb1R",
        "outputId": "2a9d3b74-a6cc-43b0-d2bd-f55337872bf2"
      },
      "execution_count": null,
      "outputs": [
        {
          "execution_count": 116,
          "output_type": "execute_result",
          "data": {
            "text/plain": "Sentiment      0\nTweet        686\ndtype: int64"
          },
          "metadata": {}
        }
      ]
    },
    {
      "cell_type": "code",
      "source": [
        "df.dropna(inplace=True)"
      ],
      "metadata": {
        "execution": {
          "iopub.status.busy": "2024-08-09T12:07:05.547849Z",
          "iopub.execute_input": "2024-08-09T12:07:05.548591Z",
          "iopub.status.idle": "2024-08-09T12:07:05.573979Z",
          "shell.execute_reply.started": "2024-08-09T12:07:05.548558Z",
          "shell.execute_reply": "2024-08-09T12:07:05.573297Z"
        },
        "trusted": true,
        "id": "V6BnkeyyZb1R"
      },
      "execution_count": null,
      "outputs": []
    },
    {
      "cell_type": "code",
      "source": [
        "df.isnull().sum()"
      ],
      "metadata": {
        "execution": {
          "iopub.status.busy": "2024-08-09T12:07:05.575338Z",
          "iopub.execute_input": "2024-08-09T12:07:05.575864Z",
          "iopub.status.idle": "2024-08-09T12:07:05.597387Z",
          "shell.execute_reply.started": "2024-08-09T12:07:05.575829Z",
          "shell.execute_reply": "2024-08-09T12:07:05.596453Z"
        },
        "trusted": true,
        "id": "yYqGohjAZb1R",
        "outputId": "4d044a38-aaf7-4169-9986-5d057f3a4d26"
      },
      "execution_count": null,
      "outputs": [
        {
          "execution_count": 118,
          "output_type": "execute_result",
          "data": {
            "text/plain": "Sentiment    0\nTweet        0\ndtype: int64"
          },
          "metadata": {}
        }
      ]
    },
    {
      "cell_type": "code",
      "source": [
        "# df.duplicated().sum()"
      ],
      "metadata": {
        "execution": {
          "iopub.status.busy": "2024-08-09T12:07:05.598324Z",
          "iopub.execute_input": "2024-08-09T12:07:05.598573Z",
          "iopub.status.idle": "2024-08-09T12:07:05.604621Z",
          "shell.execute_reply.started": "2024-08-09T12:07:05.59855Z",
          "shell.execute_reply": "2024-08-09T12:07:05.603651Z"
        },
        "trusted": true,
        "id": "JhBz4RdqZb1R"
      },
      "execution_count": null,
      "outputs": []
    },
    {
      "cell_type": "code",
      "source": [
        "# df.drop_duplicates(inplace=True)"
      ],
      "metadata": {
        "execution": {
          "iopub.status.busy": "2024-08-09T12:07:05.605861Z",
          "iopub.execute_input": "2024-08-09T12:07:05.606279Z",
          "iopub.status.idle": "2024-08-09T12:07:05.615679Z",
          "shell.execute_reply.started": "2024-08-09T12:07:05.606249Z",
          "shell.execute_reply": "2024-08-09T12:07:05.614904Z"
        },
        "trusted": true,
        "id": "UotQYZOtZb1R"
      },
      "execution_count": null,
      "outputs": []
    },
    {
      "cell_type": "code",
      "source": [
        "df.duplicated().sum()"
      ],
      "metadata": {
        "execution": {
          "iopub.status.busy": "2024-08-09T12:07:05.616786Z",
          "iopub.execute_input": "2024-08-09T12:07:05.617198Z",
          "iopub.status.idle": "2024-08-09T12:07:05.666389Z",
          "shell.execute_reply.started": "2024-08-09T12:07:05.617168Z",
          "shell.execute_reply": "2024-08-09T12:07:05.665516Z"
        },
        "trusted": true,
        "id": "8ycziU8UZb1R",
        "outputId": "3333452d-1c0a-42d5-c14e-03240fb11cea"
      },
      "execution_count": null,
      "outputs": [
        {
          "execution_count": 121,
          "output_type": "execute_result",
          "data": {
            "text/plain": "4227"
          },
          "metadata": {}
        }
      ]
    },
    {
      "cell_type": "code",
      "source": [
        "df['Tweet'].apply(len).max()"
      ],
      "metadata": {
        "execution": {
          "iopub.status.busy": "2024-08-09T12:07:05.667671Z",
          "iopub.execute_input": "2024-08-09T12:07:05.668304Z",
          "iopub.status.idle": "2024-08-09T12:07:05.716019Z",
          "shell.execute_reply.started": "2024-08-09T12:07:05.668272Z",
          "shell.execute_reply": "2024-08-09T12:07:05.715099Z"
        },
        "trusted": true,
        "id": "ClhWg6VvZb1R",
        "outputId": "39f7d175-5214-4320-dee8-38beff436a56"
      },
      "execution_count": null,
      "outputs": [
        {
          "execution_count": 122,
          "output_type": "execute_result",
          "data": {
            "text/plain": "957"
          },
          "metadata": {}
        }
      ]
    },
    {
      "cell_type": "code",
      "source": [
        "print(stopwords.words('english'))"
      ],
      "metadata": {
        "execution": {
          "iopub.status.busy": "2024-08-09T12:07:05.717259Z",
          "iopub.execute_input": "2024-08-09T12:07:05.717584Z",
          "iopub.status.idle": "2024-08-09T12:07:05.725327Z",
          "shell.execute_reply.started": "2024-08-09T12:07:05.717555Z",
          "shell.execute_reply": "2024-08-09T12:07:05.724367Z"
        },
        "trusted": true,
        "id": "xLbY8zgVZb1R",
        "outputId": "86d26ff1-f3a1-4297-f55e-27d4ac49e067"
      },
      "execution_count": null,
      "outputs": [
        {
          "name": "stdout",
          "text": "['i', 'me', 'my', 'myself', 'we', 'our', 'ours', 'ourselves', 'you', \"you're\", \"you've\", \"you'll\", \"you'd\", 'your', 'yours', 'yourself', 'yourselves', 'he', 'him', 'his', 'himself', 'she', \"she's\", 'her', 'hers', 'herself', 'it', \"it's\", 'its', 'itself', 'they', 'them', 'their', 'theirs', 'themselves', 'what', 'which', 'who', 'whom', 'this', 'that', \"that'll\", 'these', 'those', 'am', 'is', 'are', 'was', 'were', 'be', 'been', 'being', 'have', 'has', 'had', 'having', 'do', 'does', 'did', 'doing', 'a', 'an', 'the', 'and', 'but', 'if', 'or', 'because', 'as', 'until', 'while', 'of', 'at', 'by', 'for', 'with', 'about', 'against', 'between', 'into', 'through', 'during', 'before', 'after', 'above', 'below', 'to', 'from', 'up', 'down', 'in', 'out', 'on', 'off', 'over', 'under', 'again', 'further', 'then', 'once', 'here', 'there', 'when', 'where', 'why', 'how', 'all', 'any', 'both', 'each', 'few', 'more', 'most', 'other', 'some', 'such', 'no', 'nor', 'not', 'only', 'own', 'same', 'so', 'than', 'too', 'very', 's', 't', 'can', 'will', 'just', 'don', \"don't\", 'should', \"should've\", 'now', 'd', 'll', 'm', 'o', 're', 've', 'y', 'ain', 'aren', \"aren't\", 'couldn', \"couldn't\", 'didn', \"didn't\", 'doesn', \"doesn't\", 'hadn', \"hadn't\", 'hasn', \"hasn't\", 'haven', \"haven't\", 'isn', \"isn't\", 'ma', 'mightn', \"mightn't\", 'mustn', \"mustn't\", 'needn', \"needn't\", 'shan', \"shan't\", 'shouldn', \"shouldn't\", 'wasn', \"wasn't\", 'weren', \"weren't\", 'won', \"won't\", 'wouldn', \"wouldn't\"]\n",
          "output_type": "stream"
        }
      ]
    },
    {
      "cell_type": "code",
      "source": [
        "df.reset_index(drop=True, inplace=True)"
      ],
      "metadata": {
        "execution": {
          "iopub.status.busy": "2024-08-09T12:07:05.726341Z",
          "iopub.execute_input": "2024-08-09T12:07:05.726664Z",
          "iopub.status.idle": "2024-08-09T12:07:05.735782Z",
          "shell.execute_reply.started": "2024-08-09T12:07:05.72663Z",
          "shell.execute_reply": "2024-08-09T12:07:05.735Z"
        },
        "trusted": true,
        "id": "DECpHGyqZb1R"
      },
      "execution_count": null,
      "outputs": []
    },
    {
      "cell_type": "code",
      "source": [
        "print(df.index)"
      ],
      "metadata": {
        "execution": {
          "iopub.status.busy": "2024-08-09T12:07:05.736891Z",
          "iopub.execute_input": "2024-08-09T12:07:05.737229Z",
          "iopub.status.idle": "2024-08-09T12:07:05.746322Z",
          "shell.execute_reply.started": "2024-08-09T12:07:05.737198Z",
          "shell.execute_reply": "2024-08-09T12:07:05.745485Z"
        },
        "trusted": true,
        "id": "Zj-rj0mcZb1S",
        "outputId": "f42f08d6-3012-4ef5-a22e-a94d270400f5"
      },
      "execution_count": null,
      "outputs": [
        {
          "name": "stdout",
          "text": "RangeIndex(start=0, stop=73996, step=1)\n",
          "output_type": "stream"
        }
      ]
    },
    {
      "cell_type": "code",
      "source": [
        "ps=PorterStemmer()\n",
        "corpus=[]\n",
        "for i in range(len(df)):\n",
        "    z=re.sub('[^a-zA-Z]',\" \",df['Tweet'][i])\n",
        "    z=z.lower()\n",
        "    z=z.split()\n",
        "    z=[word for word in z if word not in stopwords.words('english') ]\n",
        "    z=' '.join(z)\n",
        "    z=ps.stem(z)\n",
        "    corpus.append(z)\n",
        "corpus"
      ],
      "metadata": {
        "execution": {
          "iopub.status.busy": "2024-08-09T12:07:05.749207Z",
          "iopub.execute_input": "2024-08-09T12:07:05.749495Z",
          "iopub.status.idle": "2024-08-09T12:10:02.891307Z",
          "shell.execute_reply.started": "2024-08-09T12:07:05.749462Z",
          "shell.execute_reply": "2024-08-09T12:10:02.890463Z"
        },
        "trusted": true,
        "id": "Tj8ZhSP5Zb1S",
        "outputId": "3933df9b-2ef5-44a2-a2f8-d7852d1f8983"
      },
      "execution_count": null,
      "outputs": [
        {
          "execution_count": 126,
          "output_type": "execute_result",
          "data": {
            "text/plain": "['im getting borderlands murd',\n 'coming borders kil',\n 'im getting borderlands kil',\n 'im coming borderlands murd',\n 'im getting borderlands murd',\n 'im getting borderlands murd',\n 'spent hours making something fun know huge borderlands fan maya one favorite characters decided make wallpaper pc original image versus creation made enjoy pic twitter com mlsi wf jg',\n 'spent couple hours something fun know huge borderlands fan maya one favorite characters decided make wallpaper pc original picture compared creation made fun pic twitter com mlsi wf jg',\n 'spent hours something fun know huge borderlands fan maya one favorite charact',\n 'spent hours making something fun know huge rhandlerr fan maya one favorite characters decided make wallpaper pc original image versus creation made enjoy pic twitter com mlsi wf jg',\n 'spent hours making something fun know huge rhandlerr fan maya one favorite characters decided make wallpaper pc original image versus creation made enjoy pic twitter com mlsi wf jg',\n '',\n 'rock hard la varlope rare powerful handsome jackpot borderlands xbox dlvr rmtrgf',\n 'rock hard la varlope rare powerful handsome jackpot borderlands xbox dlvr rmtrgf',\n 'rock hard la varlope rare powerful handsome jackpot borderlands xbox dfr rmtrgf',\n 'rock hard la vita rare powerful handsome jackpot borderlands xbox dlvr rmtrgf',\n 'live rock hard music la la varlope rare powerful live handsome jackpot borderlands sega xbox dlvr e rmtrgf',\n 'hard like rare london de handsome borderlands xbox dlvr rmtrgf',\n 'first borderlands session long time actually really satisfying combat experience got really good kil',\n 'first borderlands session long time actually really satisfying fighting experience got really good kil',\n 'first borderlands session long time actually really satisfying combat experience got really good kil',\n 'first borderlands session long time actually enjoyed really satisfying combat experience got rather good kil',\n 'first real borderlands session nice long wait time actually really satisfying combat experience got really good kil',\n 'first borderlands session hot row actually really bad combat experience really good kil',\n 'biggest dissappoinment life came year ago fuck borderland',\n 'biggest disappointment life came year ago',\n 'biggest disappointment life came year ago',\n 'biggest dissappoinment life coming year ago fuck borderland',\n 'biggest male dissappoinment life came hanging year time ago fuck borderland',\n 'biggest dissappoinment life came back last year ago fuck borderlands last',\n 'finished borderlands finally yas thank hanging everyone fun try stream tomorrow might irl streams awayu shall see thank much raids mompou mumpow megamagwitch kfdmitch',\n 'finally finally find borderlands yes thank hanging fun try stream tomorrow maybe irl streams see thanks raids mompou mumpow megamagwitch kfdmitch',\n 'thank hanging everyone fun try get haircut tomorrow irl streams would still hawaii see thank much mompou mumpow megamagwife fendmitch raid',\n 'finished borderlands update yas thank hanging guys fun try stream even might irl streams awayu shall go thank much raids mompou mumpow megamagwitch hop',\n 'finished borderlands finally yas thank everyone hanging everyone fun try make stream tomorrow might make irl streams awayu never shall see thank much raids mompou mumpow megamagwitch kfdmitch',\n 'finished borderlands finally yas hey hanging fun try stream tomorrow might use irl streams awayu shall see thank much many raids mompou mumpow',\n 'man gearbox really needs fix dissapointing drops new borderlands dlc cant fine farm bosses mayhem get legendary drop anywhere else get drops really sucks alot',\n 'man gearbox really needs fix disappointing drops new borderlands dlc farm bosses mayhem get legendary drop get drops elsewher',\n 'man gearbox really needs fix disssapointing drops new borderlands dlc cant fine farm bosses mayhem get legendary drop elsewhere get drops really sucks alot',\n 'man bethesda really needs fix dissapointing drops new borderlands cant fine farm bosses mayhem get legendary drop anywhere else get drops really suck',\n 'man gearbox really needs fix dissapointing drops completely new borderlands days dlc cant e fine farm bosses mayhem e get legendary foot drop anywhere else get drops really sucks alot',\n 'unk gearbox really time fix drops new borderlands dlc fine force bosses mayhem get legendary drop everyone else get drops really needs alot',\n 'check epic stream',\n 'check epic stream',\n 'watch epic stripteas',\n 'check epic stream',\n 'check big epic stream',\n 'check unk epic stream',\n 'blaming sight tardiness little bit borderlands got called early work tomorrow make time sorry loves twitch tv punnisenpai',\n 'bit borderland called work tomorrow morning catch sorry love twitch tv punnisenpai',\n 'guilty sobriety bit borderline called work early tomorrow catch',\n 'blaming sight tardiness little bit borderlands got called early work tomorrow make time sorry loves twitch tv punnisenpai',\n 'blaming sight tardiness little bit borderlands got called early work tomorrow make time sorry loves twitch tv punnisenpai',\n '',\n 'like every man borderlands slicked back hair heard bangs stupid asshol',\n 'like every man border countries heard bangs stupid asshol',\n 'like everyone else border countries hair fallen heard stupid alien',\n 'like unk man borderlands slicked back hair heard bangs stupid asshol',\n 'beth like every man borderlands slicked back hair heard enough gray bangs stupid asshol',\n 'practically every man france slicked back hair heard bangs greedy asshol',\n '',\n '',\n '',\n '',\n '',\n 'going finish borderlands today got new commands set looking forward good stream starting hour',\n 'finish borderlands today new commands set looking forward good stream start hour',\n 'going finish borderlands today new commands installed looking forward good stream',\n 'going finish borderlands today got new events set look forward good stream starting hour',\n 'going finish finish cleaning borderlands today got new commands set looking forward good stream starting hour',\n 'going finish volume today got awesome server set looking forward good stream starting hour',\n 'imma probably play borderlands tps bit fun',\n 'imma probably playing bit borderland tps fun',\n 'imma probably play border tps bit going fun',\n 'imma probably play live borderlands tps bit fun',\n 'imma probably play borderlands tps bit yer fun',\n 'imma probably got video tps bit make fun',\n 'one profzeroo live w borderlands catch buff ly wmmip say streamer shouts chat chance coming streamer shouts shout',\n 'one profzeroo live w borderlands catch buff ly wmmip say streamer shouts chat chance upcoming one streamer shouts shout',\n 'one profzero live w borderlands catch buff ly wmmip say stream shouts chat chat chance coming stream shouts shout',\n 'one profzeroo live borderlands catch buff ly wmmip p say shouts chat chance coming also shout',\n 'one shows profzeroo live via w borderlands unk catch buff ly wmmip say streamer shouts chat chance officially series coming streamer shouts shout',\n 'one movies live w profzeroo catch buff ly wmmip streamer shouts invitation chance coming invit',\n 'fuck yessssssss',\n 'fick yessssss',\n 'fuck yessssssss',\n 'fuck yessssssss unk',\n 'fuck yessssssss',\n 'fuck',\n 'hate easy mayhem modifier event mayhem last forever fun game since added horrible modifiers borderlands please give option play mayhem turn modifiers pl',\n 'hate simple chaos modifier event chaos last forever fun game since added terrible modifiers borderlands please give option play chaos turn modifi',\n 'hate easy mayhem modifier event mayhem last forever fun game since added horrible modifiers borderlands please give option play mayhem turn modifiers pl',\n 'hate saying easy day event mayhem last forever fun game since added horrible modifiers borderlands please give ability play mayhem turn modifiers pl',\n 'hate thinking easy mayhem modifier event total mayhem last forever absolutely ridiculous fun experience game almost since added horrible modifiers borderlands please give option option play mayhem turn modifiers pl',\n 'hate easy horrible modifier event game last forever best fun taken past added horrible modifiers borderlands please send option play mayhem turn modifiers pl',\n 'grounded almost looked pretty cool even despite borderlands tier unfunny writing became yet another survival crafting game really wait shitty trend di',\n 'grounded looked cool despite borderline unfunny writing became another survival crafting game really wait crappy trend di',\n 'grosskreutz looked pretty cool even despite unfunny spelling turned another survival game really wait crap trend di',\n 'grounded almost looked pretty cool despite borderlands tier unfunny writing became yet survival crafting game really wait shitty mod di',\n 'deep grounded almost looked pretty cool even despite borderlands fifth tier unfunny writing format ultimately became yet another survival crafting mobile game really wait shitty trend starting di',\n 'grounded almost pretty cool even despite top tier unfunny writing became yet another annoying crafting game seriously wait shitty trend di',\n 'appreciate sonic concepts praxis valenzuela landa posas thread together talk multimodal listening soundwalks borderlands frameworks participatory action research testimonios many thoughtful resonant intersect',\n 'appreciate sound concepts practices valenzuela landa posas combine lecture multimodal listening soundwalks borderland frameworks participatory action research testimonies many thoughtful resonant intersect',\n 'evaluate sound concepts concepts valensela landa pozas together conversation multimodal listening walks border areas joint action studies etc many amazing resonant intersect',\n 'appreciate sonic concepts praxis valenzuela moreno posas together talk multimodal listening soundwalks borderlands recordings participatory field research testimonios many thoughtful resonant intersect',\n 'appreciate sonic electronic concepts praxis valenzuela landa posas thread together together creating talk multimodal visual listening digital soundwalks borderlands frameworks participatory action research interviews testimonios many thoughtful thoughts resonant intersections reflect',\n 'appreciate sonic conversations actions klein landa posas brought together talk multimodal experiences soundwalks ethical frameworks participatory action practices testimonios many provocative resonant intersections today',\n 'borderlands submit complaint ceo paying staff bonus',\n 'borderlands file complaint ceo pay employees bonus',\n 'borderlands file complaint ceo pay employees bonus',\n 'borderlands submit complaint ceo paying competitors bonus',\n 'borderlands suppose submit complaint ceo even paying entire staff bonus',\n 'submit complaint ceo offering staff bonus',\n 'borderlands fuckin trash',\n 'borderlands damn rubbish',\n 'borderlands fucking thrash',\n 'borderlands shit fuckin trash',\n 'borderlands fuckin trash',\n 'borderlands fuckin stupid',\n 'finally played borderlands actual game play great almost guns feel fun never felt like needed grind story hand say much looking forward eventual cutscene skip',\n 'finally played borderlands actual game great almost weapons feel funny never felt like grind hand say much looking forward eventual sequence skip',\n 'story hand say looking forward occasional slip',\n 'finally played borderlands open game play great almost guns feel fun never felt like needed grind story another hand say much looking forward eventual cutscene skip',\n 'finally played borderlands actual game play great almost guns feel fun yet never felt much like someone seriously needed grind pretty story side hand say damn much forward looking forward eventual endless cutscene skip',\n 'finally played borderlands actual game play great almost guns fun never felt sure needed grind story hand say oh yes much looking forward extended cutscene skip',\n 'loving new ghostlifestyle cans anyone else drink ghost',\n 'love new ghostlifestyle cans everyone else drinks ghost',\n 'love new ghostlive cans anyone else drink ghost',\n 'loving new ghostlifestyle cans anyone else drink ghost',\n 'loving back three new ghostlifestyle cans anyone else else drink ghost',\n 'new ghostlifestyle unk want drink ghost',\n 'come meet one lovely gaming goddess',\n 'meet one lovely gambling goddess',\n 'come meet one beautiful gods gambl',\n 'come one lovely gaming goddess',\n 'come meet one lovely gaming goddess',\n 'come meet one lovely green goddess',\n 'hell halloween month alreadi',\n 'hell already halloween month',\n 'hell already halloween month',\n 'hell march halloween month alreadi',\n 'hell pulling halloween month starting alreadi',\n 'hell halloween month alreadi',\n 'bitch',\n 'slut',\n 'bitch',\n 'terrible bitch',\n 'bitch',\n 'miracl',\n 'ok loving also playing bombs baghdad anything gets hype borderlands like concept',\n 'ok loving also playing bombs baghdad something gives hype borderlands like concept',\n 'ok loving also playing bombs baghad anything gets borderlands like concept',\n 'ok loving also seeing take baghdad anything gets hype borderlands like concept awesom',\n 'ok sir loving also playing bombs baghdad case anything gets hype borderlands like concept',\n 'ok loving also playing bombs earth anything gets hype good rpg concept',\n 'uninstalled games make space borderland',\n 'uninstall games make room borderland',\n 'deleted games make room borderland',\n 'uninstalled games make space borderland',\n 'uninstalled games make space watching borderland',\n 'uninstalled games make space borderland',\n 'already loving bleeding edge clever game cross overwatch borderlands domination game mode cool',\n 'love bleeding edge clever game crossroads overwatch borderlands domination game mode cool',\n 'cross overwatch borderlands domination game mode cool',\n 'already loving bleeding edge fun game cross overwatch borderlands xbox game mode cool',\n 'already also loving bleeding edge clever game cross overwatch borderlands future domination game mode cool',\n 'already played bleeding edge clever game cross fantasy borderlands non domination game mode play',\n 'bioshock borderlands coming switch bitch count fuck',\n 'bioshock borderlands coming switch bitch count fuck',\n 'bioshock borderlands coming switch bitch count fuck',\n 'bioshock borderlands coming desert bitch count fuck',\n 'bioshock montana borderlands coming switch bitch count fuck',\n 'bioshock borderlands coming switch bitch count fuck',\n 'platinum best loot borderland',\n 'platinum best booty borderland',\n 'platinum best lot borderland',\n 'platinum best loot borderland',\n 'platinum rock named best loot borderland',\n 'platinum best loot',\n 'reason laptop run borderlands war thunder warframe high settings moment even try even launch csgo entire computer crash',\n 'reason laptop run borderlands war thunder warframe high settings moment even try start csgo entire computer crash',\n 'reason laptop run borderlands war thunder warframe high settings moment even try run csgo whole computer break',\n 'reason firefox run borderlands war thunder plus warframe high settings moment even try even launch csgo entire computer crash',\n 'reason laptop easily run borderlands volume chaos war thunder warframe currently high settings moment even dare try even launch csgo mind entire computer crash',\n 'reason software mount act war thunder king thunder high speeds moment even try even launch entire computer crash',\n 'jumping stream early today playing borderlands dlcs vibing new playlists made come vibe also dropping quality p see makes difference well stream runs dumb internet lmao twitch tv heyitscec',\n 'start streaming morning still playing borderlands dlcs vibrating new playlists made come vibe also lowering quality p see makes difference well stream runs stupid internet lmao twitch tv heyitscec',\n 'jon stream early today playing borderlands dlc vibing new playlists made come vibe also downloading quality p see difference well stream runs tumb internet lmao',\n 'jumping stream early today playing borderlands dlcs vibing new playlists made come vibe also dropping quality p see makes difference well stream runs dumb internet lmao twitch tv heyitscec',\n 'jumping stream early today playing borderlands dlcs vibing new playlists made come vibe also dropping quality p see makes difference well stream runs dumb internet lmao twitch tv heyitscec',\n '',\n 'enter gunner seat fear lif',\n 'step trench fear lif',\n 'enter gunner seat fear lif',\n 'enter gunner seat actually fear lif',\n 'enter gunner seat fear lif',\n 'enter gunner seat fear lif',\n 'fuck pic twitter com wav bacr j',\n 'fuck pic twitter com wav bacr j',\n 'fuck pic wikipedia org wav bacr j',\n 'fuck pic twitter com wav bacr j',\n 'v fuck pic twitter com wav bacr j',\n '',\n 'borderlands good omg',\n 'borderlands good omg',\n 'borderlands good omg',\n 'borderlands good omg',\n 'borderlands ever good omg',\n 'borderlands omg',\n 'update thwarted bank borderland',\n 'update foiled bank borderland',\n 'update threatened bank borderland',\n 'update thwarted bank borderland',\n 'update thwarted late bank trip borderland',\n 'update thwarted bank borderland',\n 'borderlands something seems broken drop rates constantly dropping less lot lower mayhem levels possible loot modifier swear seeing greens blues anything boss kil',\n 'borderlands something seems broken drop rates constantly falling less lower chaos levels possible loot modifier swear see greens blues anything boss kil',\n 'borderlands something seems broken drop rate constantly falling less lower levels mayhem possible production modifi',\n 'borderlands something seems kinda broken drop rates constantly pushing less lot normal mayhem levels possible loot modifier people swear moving greens blues anything boss kil',\n 'borderlands something seems broken drop recovery rates constantly dropping seems less lot lower mayhem levels fast possible loot modifier next swear actually seeing greens blues anything boss kil',\n 'borderlands something seems broken drop rates constantly dropping less gold lower amounts worked loot modifier unk swear seeing greens blues anything boss kil',\n 'cbp video dhs wolf deceptively cut parts report laikenjordahl saying ripping arizona rest borderlands two usbp admittedly surveilling us public road violent clashes indigenous activists protesting wal',\n 'cbp video dhs wolf misleadingly cut parts report laikenjordahl says tearing arizona rest border country two usbp admittedly monitors us public streets violent clashes indigenous activists protesting wal',\n 'video cbp dhs wolf deceptively cuts parts report',\n 'cbp video somebody deceptively cut bits report dhs wolf says ripping arizona rest borderlands two usbp admittedly surveilling us public road fatal clashes indigenous activists wal',\n 'fact entire cbp video dhs wolf deceptively cut parts report unk saying ripping arizona rest side borderlands two unk admittedly surveilling us public road violent clashes began indigenous american activists protesting wal',\n 'protest video bp deceptively cut parts report bp saying taking arizona rest borderlands two usbp admittedly surveilling photos public road violent clashes tucson muslim',\n 'got play borderlands entire polycule tonight fun magical evening end sigh',\n 'allowed play borderlands tonight polyphony funny magical evening end sigh',\n 'play borderlands polyslice tonight fun magical evening end sigh',\n 'got enjoy borderlands entire polycule tonight fun magical evening better end sigh',\n 'got play borderlands part entire polycule tonight really fun magical evening finally end sigh',\n 'got play jackson entire polycule tonight fun completely magical happy evening end sigh',\n 'shitty get profit wise less expected due huge budget',\n 'crappy get less profit expected due huge budget',\n 'crap realize profit turned lower expected huge budget',\n 'shitty get profit wise less expected due busted budget',\n 'shitty get profit wise really less expected due huge marketing budget',\n 'shitty get profit wise less business expected prior huge problem',\n 'borderlands good far borderlands always fav',\n 'borderlands good far borderlands always favorit',\n 'borderlands good far borderlands always fav',\n 'borderlands good far borderlands always fav',\n 'borderlands good far borderlands certainly always probably fav',\n 'unk good far guardian always fav',\n 'finally got around starting borderlands weekend love already well mad',\n 'finally managed start borderlands weekend love already well don',\n 'finally got launch borderlands weekend already enjoying well don',\n 'finally got around starting borderlands weekend loved already well lov',\n 'finally got around officially starting borderlands whole weekend love going already well mad',\n 'finally got around starting borderlands weekend turned many mad',\n 'slutty mechanic im im',\n 'slutty mechanic im im im im',\n 'slutski',\n 'slutty mechanic im',\n 'slutty old mechanic im im',\n 'slutty mechanic im',\n 'night heeps fun playing borderlands getting closer closer towards end stream raided clocksydraws amazing streamer beautiful art pieces give follow already goodnight',\n 'night loads fun playing borderlands getting closer closer end stream raided clocksydraws amazing streamer beautiful artwork give follow done yet good night',\n 'night fun playing borderlands getting closer closer end stream drove clocksydraws amazing street beautiful works art let imitate already good night',\n 'night heeps fun playing borderlands getting closer closer towards end stream raided clocksydraws amazing streamer beautiful art pieces give follow already unk goodnight',\n 'night heeps fun playing borderlands getting closer closer towards end stream raided clocksydraws brilliant amazing streamer beautiful art pieces give follow already go goodnight',\n 'night heeps fun playing borderlands getting closer closer towards end stream raided clocksydraws cool streamer beautiful art pieces give follow already goodnight',\n 'favorite games time thanks slayer drunk cookies halo pick rocket league kingdom hearts super mario bros stars probably first game ever played demintele sway discospider void bwungus lstesports let see em',\n 'favorite games time thanks slayer drunk cookies halo choose rocket league kingdom hearts super mario bros stars probably first game ever played demintele sway discospider void bwungus lstesports let see em',\n 'favorite games time thanks slayer drunk cris',\n 'favorite games time thanks mario slayer halo pick rocket league kingdom floor mario bros stars probably mainly first game first played drunk cookies demintele sway discospider void bwungus let se',\n 'favorite games time thanks slayer drunk cookies halo wars playstation even pick new rocket league kingdom hearts super mario bros stars probably first game ever even played demintele sway discospider void bwungus lstesports let really see em',\n 'favorite games time thanks slayer many others halo beat rocket express kingdom hearts super mario bros stars literally first game ever played drunk cookies demintele sway discospider things people se',\n 'bl using girl fire end credits gonna quit borderlands forev',\n 'bl girl fire end credits reason leave borderlands forev',\n 'bl using girl fire end credits gonna quit borderlands forev',\n 'bl using girl fire end credits reminds gonna quit borderlands forev',\n 'bl using girl fire writing end credits probably r gonna quit borderlands forev',\n 'bl old girl fire end credits knows gonna watch borderlands forev',\n 'yoooooooooo actually hyped movi',\n 'yooooooooooo really puffed movi',\n 'yooooooooo actually hyped movi',\n 'yoooooooooo currently hyped movi',\n 'yoooooooooo actually hyped little movi',\n 'yoooooooooo actually hyped guy',\n 'bc games okay borderlands best kind',\n 'bc games fine border country best kind',\n 'bbc games good year best kind',\n 'bc games okay borderlands probably best kind',\n 'bc games okay borderlands best region kind',\n 'think games okay borderlands best good',\n 'modern warfare borderlands great game deals ps xbox one switch unsorted co modern warfare https co n qojkhu',\n 'modern warfare borderlands great games ps xbox one switch unsorted co modern warfare https co n qojkhu',\n 'modern warfare borderlands great game deals ps xbox one swift unsorteco modern warfar',\n 'modern warfare borderlands great game gear ps xbox one switch unsorted co modern warfare https co n qojkhu',\n 'modern warfare borderlands great nintendo game group deals ps xbox one nintendo switch also unsorted see co w modern warfare database https co n qojkhu',\n 'modern warfare borderlands online great good deals ps compact multi switch co modern warfar',\n 'next one borderlands handsome collection welcom',\n 'next borderlands handsome collection welcom',\n 'next borderlands handsome council',\n 'next one borderlands best handsome collection welcom',\n 'next short one borderlands true handsome collection welcom',\n 'second one borderlands handsome collection welcom',\n 'disagree psycho krieg fantastic fustercluck wonderful end borderlands dlc line focuses fan favorite character gives long lasting players closure big questions krieg character memorable set pieces players interact',\n 'psycho krieg fantastic fustercluck wonderful conclusion borderlands dlc line focuses fan favorite character offers long lasting players conclusion big issues character war memorable set pieces players interact',\n 'psycho ostik fusterkluck perfect conclusion borderlands line focuses fans favorite character gives players opportunity close long time important questions character memorable scenery players interact',\n 'disagree psycho krieg vs fantastic fustercluck wonderful end game borderlands dlc line focuses fan favorite character gives long lasting players closure big questions primary character memorable set character players play',\n 'seriously disagree psycho krieg fantastic fustercluck story wonderful end borderlands dlc book line focuses fan favorite character gives long game lasting players closure big questions krieg character memorable set pieces players always interact',\n 'disagree klaus krieg fantastic fustercluck wonderful end borderlands dlc line focuses fan favorite character gives little range satisfying closure several big questions character memorable set pieces players interact',\n 'hate algorithm',\n 'hate algorithm',\n 'hate alma mat',\n 'hate algorithm',\n 'hate stupid algorithm',\n 'hate algorithm',\n 'april patch mini dlc borderlands amazing events new difficulty modifiers ramp gear stats combine make game fresh yet',\n 'april patch mini dlc borderlands amazing events new difficulty modifiers extra gear stats make game fresh',\n 'april patch mini dlc borderlands amaz',\n 'april patch mini dlc borderlands amazing events new difficulty modifiers ramp total gear stats combine make event great yet',\n 'latest april patch mini dlc ultimate borderlands online amazing story events brand new level difficulty modifiers ramp power gear stats combine make game fresh yet',\n 'april patch mini dlc borderlands amazing events new difficulty modifiers ramp unk gear stats combine make game fresh fun',\n 'hey guys optus appears accident stream getting good apology back tomorrow borderlands big apologies idea happen',\n 'hi guys optus seems accident electricity going well excuse back tomorrow border countries big apologies idea happen',\n 'hey guys optus seems got accident flow going well apology back tomorrow border lands big apology idea happen',\n 'hey guys optus appears accident stream getting good operator reporting tomorrow borderlands big apologies idea happen',\n 'hey guys optus appears accident blood stream getting good apology back tomorrow us borderlands big apologies though idea exactly happen',\n 'unk guys optus appears accident reviews start getting good apology back tomorrow borderlands apologies idea exactli',\n 'big hearty congratulations playapex respawn callofduty borderlands destinythegame families baftagames nominations wooohoooo',\n 'congratulations playapex respawn callofduty borderlands destinythegame families baftagames nominations wooohoooo',\n 'big heartfelt congratulations playapex respawn cfduty borderlands destinythegame baftagames woooooooo',\n 'big special congratulations fellow playapex respawn callofduty borderlands families destinythegame unk wooohoooo',\n 'big night hearty congratulations playapex campaign respawn project callofduty borderlands destinythegame distinguished families putting numerous baftagames foundation nominations wooohoooo',\n 'big strong congratulations unk parents playapex respawn adoptive families various nominations wooohoooo',\n 'hey borderlands mutuals fam sorry interacting directly playing games much love ya much thank reminding fandom giant cesspool thank cute characters look forward se',\n 'hey borderlands mutuals fam sorry interact play games directly love much thank reminding fandom huge cesspool thank nice characters look forward',\n 'hey borderlands mutuals fam sorry interacting directly playing games much love ya much thank reminding fandom giant cesspool thank cute characters look forward se',\n 'hey borderlands mutuals fam sorry interacting directly playing games much love ya much thank telling fandom giant cesspool thank posting amazing content look forward se',\n 'lee hey borderlands mutuals fam sorry interacting directly playing games fun much really really love ya much thank reminding fandom game giant time cesspool thank cute little characters look much forward se',\n 'great borderlands mutuals fam sorry interacting directly playing hard love ya much thank reminding fandom global cesspool thanks unk awesome characters look forward se',\n 'stupid year olds write bad poetry need get away computer talk real people believe vampir',\n 'stupid year olds write bad poetry need get computer talk real people believe vampir',\n 'stupid year olds write bad poems need get away computer talk real people believe omnipot',\n 'stupid year olds write bad poetry need get away behind computer talk like real parents believe vampir',\n 'stupid year olds write bad poetry need first get clean away using computer really talk real people believe deeply vampir',\n 'stupid year olds write terrible poetry need get away computer report real people believe vampir',\n 'borderlands guns love tentacles best new legendary weapons ranked ift tt xj rmu',\n 'borderlands weapons love tentacles best new legendary weapons rank ift tt xj rmu',\n 'borderlands get love tentacles best new legendary weapons ranked tt xj r com',\n 'borderlands guns love tentacles great new legendary weapons ranked live tt xj rmu',\n 'borderlands black guns blind love words tentacles best new legendary assault weapons ranked ift tt xj rmu',\n 'borderlands guns metal tentacles en unk secret weapons ranked ift tt xj rmu',\n 'best borderlands character pic twitter com xr p ursqg',\n 'best border character pic twitter com xr p ursqg',\n 'best borderlands character pic wikipedia org xr p ursqg',\n 'best borderlands character pic twitter com xr p ursqg',\n 'see best borderlands character pic twitter com xr p ursqg',\n 'unk',\n 'fave games minecraft borderlands forza horizon lego star war',\n 'favorite games minecraft borderlands forza horizon lego star war',\n 'favorite games minecraft borderlands forza h lego star war',\n 'fave games minecraft borderlands forza tournament lego star war',\n 'favourite fave games minecraft borderlands ep forza horizon lego star war',\n 'screen fave titles minecraft borderlands forza horizon lego star',\n 'feel like accomplished something even though reality suffer di',\n 'feeling achieved something reality suffered di',\n 'feel like spilled something fact done suffer di',\n 'feel like accomplished something even though reality felt fuck di',\n 'feel like accomplished something even though reality seemingly suffer di',\n 'feel like accomplished something beautiful though reality suffer di',\n 'messed downloading new borderlands dlc yet assume update patch dlc like previous dlc even season pass manually added ps store download',\n 'suppose update patch dlc like previous dlc added downloaded manually ps store even season card',\n 'suppose update patch patch previous case even subscription manually added store download',\n 'messed downloading new borderlands dlc yet assume update patch dlc like previous one even season pass immediately added ps store download',\n 'messed downloading new borderlands dlc update yet assume update never patch dlc feels like whole previous dlc even getting final season pass manually added later ps store download',\n 'messed downloading completely new borderlands dlc yet assume update patch dlc like dlc even conditional pass patch eventually manually added ps store mad',\n 'hey borderlands cant access new dlc start mission nothing game ep',\n 'hey borderlands access new dlc start mission nothing put game ep',\n 'hey borderlands cant access new focus start mission nothing game ep',\n 'hey borderlands u cant access console dlc start mission nothing game ep',\n 'hey borderlands cant access four new dlc still start mission quickly nothing hit game ep',\n 'played borderlands access new dlc open mission nothing game ep',\n 'done nothing play borderlands last hours still done started chapter im game unnecessarily long',\n 'done anything play borderlands last hours still done start chapter th game unnecessarily long',\n 'playing borderlands last hours still finish',\n 'done nothing play borderlands shit last hours still done stop chapter im dead game unnecessarily long',\n 'done nothing play borderlands times last hours already still even done started chapter im february like game unnecessarily damned long',\n 'done nothing play borderlands last years still fucking moving started chapter im letter unnecessarily long',\n 'pretty happy made sub badges friend eyegaming twitch go check started streaming borderlands recently variety streamer twitch tv eyegaming https co borwkmszr',\n 'pretty happy made sub badges friend eyegaming twitch check recently started streaming borderlands streamer diversity twitch tv eyegaming https co borwkmszr',\n 'pretty happy made subbids friend egaming human rights go check streaming borderlands recently variety street',\n 'pretty happy made sub badges friend rhandlerr twitch go check started streaming borderlands recently variety streamer twitch tv eyegaming rhttpr',\n 'pretty happy made sub badges friend rhandlerr twitch go check started streaming borderlands recently variety streamer twitch tv eyegaming rhttpr',\n '',\n 'samsung full homeworks away ps samsung play fort want psycho get borderlands overwatch fan psycho junkratt',\n 'samsung full homework away ps samsung continue play want psycho get frontier commuter overwatch fan psycho junkratt',\n 'samsung full home affairs away f samsung play fort want psycho want borderlands overwatch fan psycho jratt',\n 'samsung full homeworks away ps samsung play fort want psycho get paid borderlands overwatch psycho awesom',\n 'happy samsung full lots homeworks away ps samsung play fort want psycho get borderlands overwatch fan said psycho junkratt',\n 'samsung like full fucking homeworks phone ps samsung play fort want psycho borderlands overwatch fan psycho junkratt',\n 'amazing months please please tell us ascension bluff door year',\n 'months please please tell us ascension bluff door year',\n 'amazing may months please please tell us ascension bluff door year',\n 'amazing months please tell us ascension bluff door year',\n 'extremely amazing preparing months please please tell us ascension base bluff station door really year',\n 'amazing saying also happening months unk please tell us last bluff year',\n 'damn sorry stupid short stream feel streaming today stupid headache fuck sent love quietachvment playing borderlands keep tabs socials probably see thursday',\n 'damn sorry stupid short stream feel like streaming today stupid headaches damned sent love quietachvment plays borderlands keep social media registers probably see thursday',\n 'damn sorry stupid short stream feel like streaming today stupid head come sent love quicktachement plays borderlands keep tabs social media probably see thursday',\n 'seriously sorry record short stream feel streaming today fighting stupid headache fuck sent love quietachvment playing great borderlands definitely active socials probably see thursday',\n 'damn sorry stupid short stream feel streaming today stupid headache fuck right sent love quietachvment playing chick borderlands keep tabs socials probably see thursday',\n 'damn adverse whole short delay step streaming actually stupid headache fuck chris sent blanket lauren playing borderlands keep tabs socials probably see thursday',\n 'perfect casting lilith anticipated film',\n 'perfect casting lilith anticipated film',\n 'great casting lilit anticipated film',\n 'perfect casting powers lilith anticipated film',\n 'perfect casting first lilith anticipated film',\n 'perfect time lilith anticipated film',\n 'gearboxofficial fix borderlands achievements unreal guys figur',\n 'gearboxofficial fix borderlands achievements unreal figur',\n 'gearboxofficial fix achievements borderlands unreal guys understand',\n 'gearboxofficial fix borderlands achievements unreal guys dont figur',\n 'gearboxofficial fix borderlands achievements com unreal bad guys figur',\n 'gearboxofficial fix borderlands achievements unreal guys check',\n 'gearboxofficial borderlands love game spent hrs beating game twice farming like crazy get weapons anoints want decide way playing way intended weaken favorite anoint',\n 'gearboxofficial borderlands love game spent hours beating game twice working like crazy get weapons ointments want decide way play intended weaken favorite album',\n 'gearboxofficial borderlands love game spent hrs beating game twice farming like crazy get weapons money w',\n 'gearboxofficial borderlands fucking love game spent hrs beating game twice farming like crazy get weapons anoints want discover one way playing way wanted weaken favorite anoint',\n 'gearboxofficial borderlands absolutely love game spent hrs beating game twice farming like crazy get weapons anoints want decide way w playing way intended totally weaken favorite anoint',\n 'gearboxofficial borderlands love game spent hrs beating game twice farming like crazy get way anoints want say way playing way intended weaken favorite anoint',\n 'yasss co stream jimmysgotya twitch tv jimmysgotya',\n 'yasss co stream jimmysgotya twitch tv jimmysgotya',\n 'yasss co stream jimmysgotya tch tv jimmysgotya',\n 'yasss co stream rhandlerr twitch tv jimmysgotya',\n 'yasss co stream rhandlerr twitch tv jimmysgotya',\n '',\n 'borderlands krieg meets maya psycho krieg fantastic fustercluck dlc youtube com watch v jfck',\n 'borderlands krieg meets maya psycho krieg fantastic fustercluck dlc youtube com watch v jfck',\n 'borderlands meets maya psycho youtube com watch v jfck',\n 'borderlands premiere krieg meets maya krieg fantastic beast dlc youtube com watch v jfck',\n 'borderlands jesse krieg music meets princess maya performing psycho krieg solo featuring fantastic duo fustercluck dlc youtube com channel watch id v jfck',\n 'borderlands beyond scott meets psycho wave vs fantastic fustercluck buy com watch v jfck',\n 'idk gonna online class shit trying play borderlands today xbox like hours controller disconnected browse instagram try plan next semester classes imagine class',\n 'tried play borderlands today xbox hours controller turned surfing instagram trying plan next semester imagine class',\n 'trying play borderline games today xbox turned hours controller turned browsing instagram trying plan next semester imagine class',\n 'idk gonna online class shit trying play borderlands today xbox like hours controller disconnected browse instagram netflix plan next semester classes took class',\n 'idk ya gonna online class shit trying desperately play borderlands today xbox barely like hours touch controller disconnected browse instagram try harder plan next real semester classes imagine class',\n 'unk supposed online class shit trying play borderlands today xbox like pm controller disconnected browse instagram try try next semester classes imagine class',\n 'officiated gay wedding borderlands feeling powerful rn',\n 'celebrated gay wedding borderlands felt pow',\n 'played gay wedding borderlands feeling pow',\n 'officiated gay wedding borderlands powerful rn',\n 'officiated gay fan wedding wwe borderlands episode feeling powerful rn',\n 'officiated gay wedding borderlands powerful rn',\n 'loving new dlc borderlands duvalmagic gearboxofficial pic twitter com pkzjxlgxlj',\n 'love new dlc borderlands duvalmagic gearboxofficial pic twitter com pkzjxlgxlj',\n 'catching new dlc borderlands duvalmagic gearboxofficial pic fm pkzjxlgxlj',\n 'loving new dlc rhandlerr rhandlerr rhandlerr pic twitter com pkzjxlgxlj',\n 'f loving new dlc rhandlerr rhandlerr rhandlerr pic twitter com pkzjxlgxlj',\n 'one',\n 'fall damage canonically exist borderlands univers',\n 'fall damage canonically borderland univers',\n 'whether damage fall canonical frontier univers',\n 'fall damage canonically exist borderland',\n 'fall damage canonically exist borderlands univers',\n 'fall damage canonically occur borderlands univers',\n 'lil preview maya drawing chipping away sinking lot time borderlands hours lately pic twitter com nye cm',\n 'lil preview mayan drawing working lately spending lot time borderlands spare time pic twitter com nye cm',\n 'lil preview maya drawing chiming away sinking lot time borderlands offer hours late pic facebook com nye cm',\n 'lil preview maya drawing chipping away sinking lot time borderlands hours lately pic twitter com nye cm',\n 'c lil preview maya drawing chipping away sinking lot time borderlands hours lately pic twitter com nye cm',\n '',\n 'nerf gun painted look lik',\n 'nerf pistol painted look like gun',\n 'pistol designed look like gun',\n 'nerf gun painted appear lik',\n 'nerf gun painted look less lik',\n 'nerf gun invented look lik',\n 'exhausted work week probably borderlands stream today sorri',\n 'exhausted work week probably able flow anymore sorri',\n 'tired working week probably border flow today sorri',\n 'exhausted work week probably borderlands stream today stok',\n 'exhausted work week probably borderlands stream today sorri',\n 'still exhausted work saturday probably borderlands stream sorri',\n 'u played borderlands pretty fun imo anyways whateves pic twitter com uoute ado',\n 'u played borderlands pretty fun imo anyway whateves pic twitter com uoute ado',\n 'u played borderlands pretty fun imo anyways whatsoever pic facebook com uoute ado',\n 'u played borderlands pretty fun imo anyways whateves pic twitter com uoute ado',\n 'tv u played borderlands pretty fun imo anyways whateves pic twitter com uoute ado',\n '',\n 'tales borderlands swaggiedeals com product tal',\n 'stories border swaggiedeals com product tal',\n 'tales borderlands swagdeals com product tal',\n 'tales borderlands factory com product tal',\n 'tales behind borderlands swaggiedeals com www product tal',\n 'looking kitchen swaggiedeals com product tal',\n 'joltzdude hey joltz im big fan seeing play borderlands specifically really strong understanding every gun part prefix simple even complex video point gain vast knowledge fast',\n 'joltzdude hey joltz big fan see play borderlands really strong understanding every weapon part prefix simple even complex video show gain enormous knowledge fast',\n 'jolddude hey joltz big fan seeing play across border particular really strong understanding every rifle detail consol',\n 'joltzdude hey joltz im big fan seeing play xcom specifically really strong understanding every gun part prefix ya simple even youtube video point vast knowledge fast',\n 'joltzdude hey joltz im big fan seeing play borderlands specifically really strong scientific understanding every gun part prefix v know particularly simple even complex video point imagine gain vast knowledge fast',\n 'joltzdude v joltz im big fan seeing borderlands specifically mighty strong understanding every gun part prefix simple even complex video point impart vast knowledg',\n 'guns love tentacles reasons excit',\n 'guns love tentacles reasons excit',\n 'gb love tentacles reasons excit',\n 'guns love sex reasons excit',\n 'guns love speed tentacles main reasons excit',\n 'guns love music four reasons excit',\n 'started playing borderlands guns love tentacles hear voice half favorite youtube channel gamegrumps hell yeah egoraptor forever apart one best gearboxofficial games creepy ass charact',\n 'started playing borderlands weapons love tentacles hear voice half favorite channel gamegrumps hell yeah egoraptor forever separated one best gearboxofficial games creepy ass charact',\n 'started playing borderlands weapons love tentacles hear voice half favorite youtube channel gamegrup',\n 'started playing borderlands guns love tentacles wanting lose voices half another favorite youtube channel gamegrumps hell yeah egoraptor forever apart one best gearboxofficial games creepy ass cartoon',\n 'started playing borderlands season guns love tentacles later hear voice half favorite youtube channel gamegrumps hell yeah egoraptor forever apart one best gearboxofficial games plays creepy ass charact',\n 'started playing borderlands guns love bad tentacles hear voice half old music channel gamegrumps hell yeah egoraptor apart one best gearboxofficial games creepy ass demon',\n 'know doesnt look like much borderlands favorite game thank smilingocean pic twitter com x dyptnald',\n 'know look like much borderlands favorite game thank smilingocean pic twitter com x dyptnald',\n 'know look like much borderlands favorite game thank smilingocean pic x dyptnald',\n 'know doesnt look like much borderlands favorite game thank rhandlerr pic twitter com x dyptnald',\n 'n know doesnt look like much borderlands favorite game thank rhandlerr pic twitter com x dyptnald',\n '',\n 'ah yes old image demon lottie still borderlands oc pic twitter com puw xjwuro',\n 'ah yes old picture demon lottie time still border country oc pic twitter com puw xjwuro',\n 'ah yes old image lottie demon still border guard',\n 'ah yes old image demon lottie still borderlands oc pic twitter com puw xjwuro',\n 'ibm ah yes old image demon lottie still borderlands oc pic twitter com puw xjwuro',\n '',\n 'despised area borderlands rust commons area many sidequest',\n 'despised area borderlands rust commons area',\n 'favourite area borderlands right rust commons many sidewalk',\n 'despised area borderlands still great commons area many sidequest',\n 'despised land area left borderlands lee rust commons area many sidequest',\n 'despised block borderlands kensington commons area many bad',\n 'holy fuck',\n 'holy shit',\n 'holy fuck',\n 'holy week',\n 'holy shit fuck',\n 'holy sick',\n 'playing lot borderlands also gotta love stunning cosplay kunaii cosplay instagram com xxkunaiixx https co giwx aqtuy',\n 'played lot borderlands also must love stunning cosplay kunaii cosplay instagram com xxkunaiixx https co giwx aqtuy',\n 'playing lot borderlands also global love stunning cosplay kunaii cosplay instagram com xxxaiii com https fenco giwx aqtuy',\n 'playing lot borderlands also gotta save monkey cosplay fox cosplay instagram com xxkunaiixx https co giwx aqtuy',\n 'playing lot thinking borderlands using tracks x also gotta love read stunning little cosplay kunaii cosplay instagram com xxkunaiixx https co giwx aqtuy',\n 'playing blast borderlands music also gotta see face cosplay kunaii jackson instagram com xxkunaiixx https co giwx aqtuy',\n 'great tips gorilla master triple gz tyvm graphic dud',\n 'great tips gorilla master triple gz tyvm graphic guy',\n 'great tips gorilla master triple gz tyvm graphic dud',\n 'great tips gorilla master tyvm graphic dud',\n 'great tips burnt gorilla master dj triple gz tyvm taking graphic romance dud',\n 'great tips personal trainer triple gz tyvm graphic dud',\n 'borderlands duvalmagic gearboxofficial wanted say huge thank worked working borderlands gearbox crushing enven covid knowing must difficult thank',\n 'borderlands duvalmagic gearboxofficial wanted say huge thank worked continue work borderlands gears crushed ever know difficult must thank',\n 'borderlands duvalmagic gearboxofficial wanted say huge thank worked working borderlands gearbox broken ev',\n 'borderlands duvalmagic wanted say huge thank worked working borderlands gearbox crushing enven covid knowing must difficult thank',\n 'borderlands duvalmagic gearboxofficial wanted say saying good huge thank worked working borderlands wheels gearbox crushing enven months covid knowing must real difficult thank',\n 'borderlands duvalmagic gotta go offer one huge thank worked working borderlands gearbox crushing enven totally understand must difficult thank',\n 'tri',\n 'trying get',\n 'tri',\n 'tri',\n '',\n 'today best game deals fifa borderlands handsome toys uk googlehits com speaks f',\n 'best gaming deals today fifa borderlands handsome toys uk googlehits com speak f',\n 'best deals far fifa borderlands handsome toys uk googfcits com speak f',\n 'today best game movies fifa borderlands toys googlehits com speaks f',\n 'today show best game winner deals fifa borderlands handsome toys uk retrieved googlehits com sales speaks f',\n 'best fifa deals fifa handsome play via uk googlehits com speaks f',\n 'ki ersix homage friend warrior borderlands yesterday rose heavens pandora resting great friend lord god miss lots thank pic twitter com wdbh',\n 'ki ersix tribute friend warrior borderlands yesterday ascended heaven pandora rests great friend lord god miss lot pic twitter com wdbh',\n 'ki ersix tribute friend warrior borderlands yesterday rose heavyweights pandora great friend god miss lot thank',\n 'rhandlerr homage friend warrior borderlands yesterday rose heavens pandora resting great friend lord god miss lots thank pic twitter com wdbh',\n 'cd rhandlerr homage friend warrior borderlands yesterday rose heavens pandora resting great friend lord god miss lots thank pic twitter com wdbh',\n '',\n 'kno borderlands handled zer nonbinary kinda shittily likely nonhuman start forgetting pronouns tftbl still rlly like zer happy fl k love playable mc',\n 'kno borderlands handling zer nonbinary kind shitty likely inhuman start forget pronouns tftbl rlly like zer happy fl k love playable mc',\n 'kno borderlands managed zer nonbinary kinda shittily likely non human start forget pronobel still rlly like zer happy fl k love playable mso',\n 'kno borderlands handled zer nonbinary kinda easier definitely nonhuman start forgetting pronouns tftbl still rlly like zer happy fl k read playable mc',\n 'kno borderlands handled zer nonbinary kinda shittily likely non nonhuman start usually forgetting pronouns tftbl still rlly like zer g happy fl k love playable mc',\n 'kno c handled zer bad kinda shittily likely nonhuman start forgetting worth tftbl still rlly like zer trying enjoy fl k liked well playable mc',\n 'top favourite games say sea thieves bioshock ssx battlefield chloesauras chrislawis forsakenrose tw ztedpr ncess',\n 'top favorite games say sea thieves bioshock ssx battlefield chloesauras chrislawis forsakenrose tw ztedpr ncess',\n 'top favorite games talk',\n 'top favourite games say sea thieves bioshock ssx battlefield chloesauras chrislawis really forsakenros',\n 'top favourite adventure games say unk sea thieves bioshock ssx battlefield happens want chloesauras chrislawis forsakenrose tw ztedpr ncess',\n 'favourite episodes say unk sea thieves bioshock ssx chloesauras chrislawi',\n 'miss borderlands tumblr much many accounts used love deactivated never return fandom',\n 'miss borderland tumblr much many accounts used love deactivated never return fandom',\n 'miss border much many accounts loved deactivated never return fundom',\n 'miss borderlands tumblr much one accounts used love deactivated really return fandom',\n 'since would miss borderlands tumblr much many current accounts things used love deactivated never return visit fandom',\n 'closed borderlands tumblr much many accounts used love buried never could return normal fandom',\n '',\n '',\n '',\n '',\n '',\n 'im fucking excit',\n 'ficking excel',\n 'proton launch vehicle disappeared face earth',\n 'im fuck',\n 'im go fucking excit',\n 'im excit',\n 'well certainly develop',\n 'well certainly develop',\n 'well development cours',\n 'well certainly quest',\n 'well certainly develop',\n 'well develop',\n 'gamespot borderlands dlc dismisses major problems lovecraft work ift tt qpei',\n 'gamespot borderlands dlc rejects major issues lovecraft work ift tt qpei',\n 'gamespot dlc borderlands fires protagonists lovecraft tt q',\n 'gamespot borderlands dlc dismisses major problems lovecraft dream ift tt qpei',\n 'official gamespot lost borderlands dlc dismisses major problems running lovecraft underground work ift tt qpei',\n 'gamespot fantasy iii music major problems lovecraft work ift tt qpei',\n 'unitedhayze glad see efforts noticed way borderlands co op would awesome pic twitter com vcgncpmavu',\n 'unitedhayze glad see efforts noticed way borderlands co op would awesome pic twitter com vcgncpmavu',\n 'unitedhayze efforts noticed way borderlands co op would amazing pic facebook com vcgncpmavu',\n 'rhandlerr glad see efforts noticed way borderlands co op would awesome pic twitter com vcgncpmavu',\n 'rhandlerr glad see efforts noticed way borderlands co op would awesome pic twitter com vcgncpmavu',\n '',\n 'super tempted get simple black heart tattoo right tit like ellie borderlands lol idk like love thought like small pool people would know got tattoo cause simple black hearts pretty common lol',\n 'super trying get simple black heart tattoo right tits like ellie borderlands lol idk liked love thought like small pool people would know got tattoo simple black hearts pretty common lol',\n 'super temptation get simple black heart tattoo right tit like ellie borderlands lol idk wanted like thought small pool people would know got tattoo simple black hearts quite common lol',\n 'super tempted get simple black heart tattoo right shoulder like ellie borderlands idk like love thought hopefully small pool people would know get tattoo id cause simple black hearts pretty common lol',\n 'super tempted get simple black heart tattoo right tit tattoo like ellie borderlands lol idk like love thought looking like small pool people would never know got tattoo cause simple black hearts pretty common lol',\n 'tempted get black simple black soul tattoo right heart like ellie borderlands lol idk like love thought like small pool people would know got right cause simple white ones pretty common lol',\n 'player local borderlands great weekend',\n 'player local borderlands great weekend',\n 'local borderlands players big weekend',\n 'local borderlands great weekend',\n 'player local play borderlands great weekend',\n 'player local borderlands shop great weekend',\n 'sly borderlands haha mission demon dark mines moria nic',\n 'sly borderlands haha mission demon dark moria mines nic',\n 'sly borderlands haha mission demon dark mines moria nic',\n 'sly borderlands haha mission demon full dark mines moria nic',\n 'sly g borderlands haha mission high demon district dark mines moria nic',\n 'sly borderlands haha great mission key jar mines del moria nic',\n 'playing borderlands mistake bc know dies also replay im gonna mess end',\n 'play borderlands mistake bc know dies even replay end mess',\n 'playing borderlands mistake bc know dies also replay im gonna mess end',\n 'playing borderlands mistake bc know dies also replay im gonna get mess end',\n 'playing borderlands final mistake bc know dies also play replay im gonna g mess end',\n 'playing vs struggle bc know dies also replay im gonna mess begin',\n 'runs borderlands xbox game dope tryna run squads mann',\n 'runs borderlands xbox game dope tryna run squad man',\n 'runs borderlands xbox game dope trina run command',\n 'runs borderlands xbox shit dope tryna run squads mann',\n 'never runs borderlands xbox video game going dope tryna run squads mann',\n 'buy borderlands xbox game dope tryna run squads mann',\n 'morning split playing pso borderlands todays stream either way stream today happening excited hang nonetheless hope weekend well pic twitter com x crvuk pq',\n 'tomorrow split comes playing pso borderlands today stream either way stream underway today still looking forward hanging hope weekend good pic twitter com x crvuk pq',\n 'morning split playing ps borderlands today stream',\n 'morning split playing pso borderlands todays stream either way stream today happening excited hang nonetheless hope weekend well pic twitter com x crvuk pq',\n 'morning split playing pso borderlands todays stream either way stream today happening excited hang nonetheless hope weekend well pic twitter com x crvuk pq',\n '',\n 'borderlands turned mayhem modifiers back mistake ie jobwx eu rg',\n 'borderlands turned mayhem modifiers mistake ie jobwx eu rg',\n 'borderlands turned mayhem modifiers mistak',\n 'borderlands putting mayhem modifiers back sounds huge mistake ie jobwx eu rg',\n 'borderlands turned skin mayhem best modifiers come back mistake ie free jobwx eu rg',\n 'may turned mayhem war back enter issue ie jobwx eu rg',\n 'actually think borderlands might th fave stand alone god love enjoy bl',\n 'actually think borderlands could fifth favorite alone god love bl enjoy',\n 'actually think borderlands might th fave would stand alone god love enjoy bl',\n 'actually think borderlands might th fave stand alone god ever enjoy bl',\n 'actually rather think borderlands might th fave certainly stand alone still god really love enjoy bl',\n 'actually think borderlands might still th fave though stand top god still enjoy bl',\n 'probably going log social media day buckle take care online class work week want work borderlands hits steam back done junk',\n 'probably log social media day buckle online classwork week want work borderlands lets steam back done garbag',\n 'probably get social media day buckle take care online activities week want work borderlands gets steamed back done rubbish',\n 'really going log social net day buckle take inventory online class assignments week want work borderlands hits steam back finished junk',\n 'probably going completely log social media day buckle take care even normal online class work week plus want still work borderlands hits steam back ever done junk',\n 'probably going log social media day buckle take video class work week want work hits steam anyway back satisfied real junk',\n 'h rny friend also fantastic artist',\n 'h rny friend also fantastic artist',\n 'herney friend also fantastic artist',\n 'friend also fantastic artist',\n 'h rny friend also wonderful fantastic artist unk',\n 'h rny friend though also successful artist unk',\n 'borderlands chapter youtu sku vr ixu via youtube come watch dive awesome adventure lets vxssociety smallstreamersc',\n 'borderlands chapter youtu sku vr ixu via youtube come watch dive fantastic adventure let vxssociety smallstreamersc',\n 'borderlands chapter youtu sku vr ixu via youtube come watch dive awesome course lets vxssociety smallstreamsc',\n 'borderlands competition sku vr ixu via youtube come watch dive explain awesome idea lets vxssociety smallstreamersc',\n 'lost borderlands part chapter youtu de w sku vr ixu via youtube come watch wanna dive awesome secret adventure lets vxssociety smallstreamersc',\n 'borderlands chapter download sku vr ixu youtube watch whilst dive virtual adventure lets without',\n 'friendly reminder borderlands soundtrack absolute banger song particular probably favorite gag entire game youtu nfwamb tlui',\n 'friendly reminder soundtrack borderlands absolute banger song maybe favorite gag whole game youtu nfwamb tlui',\n 'friendly reminder track borderlands absolute banger song special probably favorite gag whole game youtu nfwamb tlui',\n 'friendly reminder borderlands soundtrack absolute classic song particular probably favorite theme main game youtu nfwamb tlui',\n 'friendly reminder borderlands part soundtrack absolute banger song quite particular probably favorite movie gag fucking entire game youtu see nfwamb html tlui',\n 'friendly dog unk audio absolute mess song probably favorite gag entire game youtu nfwamb tlui',\n 'noob trys make salvador build borderlands twitch tv lucasc',\n 'noob tries make salvador build borderlands twitch tv lucasc',\n 'nub tries force el salvador build border lands tch tv lucasc',\n 'noob trys make salvador build borderlands twitch tv lucasc',\n 'noob trys make salvador build borderlands twitch tv lucasc',\n '',\n 'eli roth directing borderlands movie engadget com ',\n 'eli roth directs borderlands engadget com ',\n 'elie direct frontier film',\n 'eli roth directing paramount picture engadget com ',\n 'jonathan eli roth directing borderlands movie engadget com ',\n 'unk unk directing borderlands movie engadget com ',\n 'beat dlc main story line loved thank duvalmagic borderlands gearboxoffici',\n 'beat dlc main story line loved thank duvalmagic borderlands gearboxoffici',\n 'beat dlc main story line loved thank duvalmagic borderlands gearboxoffici',\n 'beat dlc story line loved thank duvalmagic borderlands gearboxoffici',\n 'heart beat dlc main story first line loved thank duvalmagic borderlands gearboxoffici',\n 'dlc short story item loved thank f duvalmagic borderlands gearboxoffici',\n 'borderlands fallout child would outerworlds love game though terrific work',\n 'borderlands fallout child would outerworlds love game though great work',\n 'borderlands fallout child would oworlds love game though terrible work',\n 'borderlands fallout child outerworlds love company though terrific work',\n 'borderlands fallout third child would outerworlds love loves game though terrific work unk',\n 'borderlands rpg cliche would simply love game unk terrific work unk',\n 'omg miss rhys soooo much would anything see borderlands pic twitter com c wvkyrbg',\n 'omg miss rhys soooo much would anything see borderlands pic twitter com c wvkyrbg',\n 'omg miss rhys soooo much would anything see borderlands pic facebook com c wvkyrbg',\n 'omg miss rhys soooo much would anything see borderlands pic twitter com c wvkyrbg',\n 'omg miss rhys soooo much would anything see borderlands pic twitter com c wvkyrbg',\n '',\n 'watching kalloori perfect situation mystic river tampa prescott dak johnson marcus lego harry potter years mille lacs leonard kawhi ivan rakitic chilton dan glazer jeff carter julio garcia algemarin l borderlands always love loveok store best online sh https co ap h thdzt',\n 'lego harry potter years mille lacs leonard kawhi ivan rakitic chilton dan glazer jeff carter julio garcia algemarin l borderlands always love loveok store best online sh https co ap h thdzt',\n 'watching khori perfect mystic river tampa prescott dak johnson marcus lego harry potter years mille lacs leonard kawhi ivan rakitic chilton dan haser jeff carter julio garcia algemarin l borderlands always love loveok store best online sh',\n 'watching kalloori perfect situation mystic river tampa prescott xavier johnson marcus spears harry potter years mille lacs leonard kawhi ivan rakitic thunder jay glazer jeff carter julio garcia algemarin l borderlands even love loveok store best online sh https co ap h thdzt',\n 'watching jimmy kalloori perfect situation mystic river tampa prescott dak johnson marcus lego harry potter years luc mille lacs leonard kawhi ivan rakitic chilton dan glazer iii jeff carter julio luis garcia algemarin l borderlands always love loveok store major best online sh https co ap h thdzt',\n 'watching kalloori perfect rainbow mystic river tampa prescott dak johnson avon lego harry phillips years mille lacs leonard fisher ivan rakitic chilton silver glazer jeff carter julio garcia algemarin borderlands always loveok store best online sh https co ap h thdzt',\n 'capitalism borderland',\n 'capitalism bord',\n 'surrender bord',\n 'capitalism political borderland',\n 'capitalism european borderland',\n 'capitalism borderland',\n 'explains lack fast travel stations guns love tentacles ridicul',\n 'explains fast travel destinations guns love tentacles ridicul',\n 'explains lack high speed tram stations gothenburg ljuby tentacl',\n 'explains market fast travel stations guns love tentacles ridicul',\n 'explains also lack regular fast travel stations guns love love alternative tentacles ridicul',\n 'basically explains lack fast travel stations story love war ridicul',\n 'enjoying borderlands tubbz sun numskulldesign',\n 'enjoying borderlands tubbz sun numskulldesign',\n 'enjoying borderlands tubbz sun numskdesign',\n 'enjoying borderlands tubbz unk sun numskulldesign',\n 'enjoying winter borderlands tubbz golden sun numskulldesign',\n 'borderlands tubbz sun numskulldesign',\n 'complet',\n 'reject',\n 'complet',\n 'series complet',\n '',\n 'wine drunk playing new borderlands goddess life fun life findom',\n 'wine drunk playing new borderlands life goddess fun life findom',\n 'wine drunk playing new borderlands life goddess fun life findom',\n 'wine drunk video borderlands goddess life fun life findom',\n 'wine drunk playing new borderlands goddess life much fun life findom',\n 'wine drunk playing new music life mortal life findom',\n 'fun annoying thing meatballmissus learned two different versions borderlands game year edition steam compatible online play',\n 'fun annoying thing meatballmissus learned two different versions borderlands game year edition steam compatible online gam',\n 'funny thing meatballmissus learned two different versions borderlands game year steam comparable online gam',\n 'fun annoying thing meatballmissus pc learned always different versions borderlands game year edition steam always compatible via online play',\n 'fun annoying thing meatballmissus learned two substantially different versions borderlands game future year complete edition steam even compatible country online play',\n 'little fun annoying thing meatballmissus others learned two different versions mario game year edition across steam compatible online purchas',\n 'borderlands please get big hot fix whole factory reset system wipe everytime play borderlands farm crash',\n 'borderlands get big fix please reset entire factory deleted system every time play borderlands build farm crash',\n 'borderlands please get big hot fix whole factory reset system wipe whenever play borderlands farm crash',\n 'borderlands could please get big hot fix gave whole factory reset system wipe everytime play borderlands farm crash',\n 'borderlands please get big hot fix routine whole factory reset report system wipe everytime gotta play borderlands farm crash',\n 'borderlands please big hot fix basic factory check system refresh everytime play borderlands farm system crash',\n 'borderlands echo cast doesnt work even though says doesnt show anything twitch except refresh says load',\n 'borderlands echo cast work though says point anything twitching turned except update says load',\n 'borderlands echo cast work even though say',\n 'borderlands echo cast doesnt work even though says whatever doesnt show anything twitch something except refresh says loading correctli',\n 'borderlands echo cast back doesnt work even though says doesnt actually show anything twitch touching paper except write refresh says something load',\n 'borderlands echo cast doesnt work even though says doesnt show normally twitch open except hit says load',\n 'even tho leveled grenade still destroying everything path check youtu wpdgr ph lo',\n 'even though leveled grenade still destroys everything gets way see also youtu wpdgr ph lo',\n 'even tho leveled grenade still destroying everything path check youtu wpdgr ph lo',\n 'even tho leveled monster still changing everything along path check youtu wpdgr ph lo',\n 'even tho leveled lone grenade still destroying everything path c check youtu wpdgr ph lo',\n 'even tho successfully leveled grenade seriously hurting everything path slug wpdgr ph lo',\n 'also bought borderlands switch love series cant wait play go',\n 'also purchased borderlands switch love series wait play along way',\n 'also bought borderlands switch love series wait play go',\n 'also bought borderlands switch love series cant wait play go',\n 'also bought borderlands switch love series cant wait play second go',\n 'also bought borderlands switch love series cant look play next',\n 'borderlands play borderlands xbox without crashing fix pl',\n 'borderlands play borderlands xbox without crash',\n 'borderlands play borderlands xbox without crashing fix pl',\n 'borderlands unk play borderlands tablet without crashing fix pl',\n 'borderlands play borderlands xbox without completely crashing maybe fix pl',\n 'man cannot play borderlands xbox without crashing fix pl',\n 'dumbass like borderlands mod mf looks like claptrap',\n 'dumbass like borderlands mod mf looks like rattlesnak',\n 'dumbass like borderlands mod mf looks like claptrap',\n 'dumbass like fun mod every mf looks like claptrap',\n 'dumbass like asking borderlands mod time mf looks like claptrap',\n 'dumbass like borderlands mod mf look',\n 'really like randy pitchford nothing helpful hope mix',\n 'really like randy pitchford helped hope mix',\n 'really like randy pitchford helped lot',\n 'really like randy pitchford nothing great realize mix',\n 'really like randy pitchford nothing fucking helpful get like hope mix',\n 'really like randy pitchford nothing helpful hope things mix',\n 'warframe dead daylight overwatch minecraft uhhh idk honestly fer al primal carnage extinction would add spore well let go sentiment nostalgia tagging anyone u want feel fre',\n 'warframe dead daylight overwatch minecraft uhhh idk honestly fer al primal carnage extinction would add spore let go feeling nostalgia one mark want feel fre',\n 'warframe dead daylight overwatch minecraft uhhh idk honestly fer al primal carnage extinction would add spore well let sentiment nostalgia tagging anyone u want feel fre',\n 'zelda dead daylight overwatch minecraft uhhh idk honestly fer al primal carnage extinction would recommend spore well ill let sentiment nostalgia tagging anyone u want feel fre',\n 'warframe dead daylight overwatch minecraft uhhh idk honestly fer al primal carnage extinction would add spore well let go hope bringing powerful sentiment inspire nostalgia tagging anyone see u want feel free visit',\n 'warframe dead daylight overwatch minecraft uhhh idk honestly fer al primal cow extinction would add spore well let go tears nostalgia going u want else feel happi',\n 'last night borderlands first playthrough complete every level peggle unlocked party night forget wanna say huge thank community support shown insane last night unbelievable w',\n 'last night borderlands first playthrough every level peggle unlocked party forget want thank community support showed insane last night incredible w',\n 'last night first game borderlands every level peggle unlocked party night forget want say huge thank community support gave amaz',\n 'last night borderlands first playthrough complete every level peggle unlocked tomorrow night forget wanna say huge thank yo friends support shown insane last night unbelievable think',\n 'last night borderlands chapter first xbox playthrough complete every level found peggle unlocked party night maybe forget wanna say big huge thank support community emotional support shown absolutely insane last night unbelievable w',\n 'last evening complete game playthrough complete every level peggle unlocked tomorrow night forget wanna say huge thank community support shown insane last night full w',\n 'went bed hours pm farming graveward almost pm went farm graveward first kill tried loot vault already looted borderlands ki ersix wrong game broken',\n 'went bed hours earlier pm graveward farm almost pm went back graveward farm first kill tried loot safe already looted borderlands ki ersix wrong game broken on',\n 'went bed hours pm farming graveward almost pm went farm graveward first kill tried lot vault already rooted borderlands ki ersix wrong game broken',\n 'went bed days night farming graveward almost pm went farm graveward new kill tried loot vault already full borderlands ki ersix wrong game broken',\n 'went bed hours pm farming graveward almost pm went farm near graveward decided scoring first kill tried loot vault home somehow already looted borderlands ki ersix wrong matters game broken',\n 'went bed hours bed pm farming graveward came still nearly pm tried farm graveward third kill tried loot vault already looted borderlands ki ersix really wrong game broken',\n 'live feel like streamed forever probably sorry borderlands bit eyesofness borderlands twitch tv niam https co rjpcj dt',\n 'live feel like poured forever probably sorry borderlands bit eyesofness borderlands twitch tv niam https co rjpcj dt',\n 'live feel like streamed vehicle problem sorry borderlands bit eyesofness borderland',\n 'live feel like streamed forever probably sorry borderlands bit rhandlerr borderlands twitch tv niam rhttpr',\n 'live feel like streamed forever probably sorry borderlands bit rhandlerr borderlands twitch tv niam rhttpr',\n 'unk',\n 'italkfortnite bought borderlands epicgames using creator code wait use skin',\n 'italkfortnite bought borderlands epicgames creator code wait use skin',\n 'ilennite bought borderlands epicgames using creator cod',\n 'italkfortnite bought borderlands epicgames using creator code cant wait see skin',\n 'italkfortnite bought borderlands epicgames using creator code code quite wait help use skin',\n 'italkfortnite actually bought season using creator code wait skin',\n 'love u guy',\n 'love u guy',\n 'love u guy',\n 'love u bro',\n 'love u guy',\n 'unk love u guy',\n 'borderlands update delayed due anti racism protests pic twitter com ddq wexjl',\n 'borderlands update delayed due anti racism protests pic twitter com ddq wexjl',\n 'borderlands delayed due anti racism protests pic wikipedia org ddq wexjl',\n 'borderlands update delayed due anti racism protests pic twitter com ddq wexjl',\n 'digital borderlands update delayed due anti racism protests pic twitter com ddq wexjl',\n '',\n 'borderlands concerns new update console ps sure playing gaming audio visuals start constantly freeze break making hard continue frame rates drop drastically worri',\n 'borderlands concerns new update console ps sure others playing gaming audio visuals start freeze constantly break makes difficult sink frame rates drastically worri',\n 'borderlands misgivings new update console ps sure otherwise game audio video constantly hovering breaking making difficult continue sharp drop frame r',\n 'borderlands concerns new update console ps n sure whats playing gaming experience visuals start constantly freeze break making hard continue frame rates drop drastically worri',\n 'borderlands also concerns scheduling new update console ps sure playing gaming audio effects visuals start constantly freeze heads break making hard continue frame rates drop drastically go worri',\n 'borderlands concerns new update console ps sure gaming software visuals start really crash break hard continue frame rates drop drastically worri',\n 'borderlands science actually really enjoy',\n 'borderland science really fun',\n 'frontier science really attract',\n 'borderlands science actually somewhat enjoy',\n 'borderlands science actually getting really enjoy',\n 'borderlands science actually still enjoy',\n 'borderlands sucks yall giving money randy pitchford go borrow games friend actually good',\n 'borderlands sucks give yall money randy pitchford go borrow games friend actually good',\n 'borderlands sucks yall giving money random pitchford go borrow games friend actually good',\n 'borderlands sucks yall giving money randy pitchford go borrow games cd actually great',\n 'borderlands sucks yall boy giving money randy pitchford go borrow games mutual friend really actually good',\n 'borderlands open yall giving money randy pitchford go borrow games friend actually good',\n 'get feed dogs way mac gets outta dnd watch together wanna play borderlands cramps bad today',\n 'get feed dogs stuff mac make watch together want play borderlands cramps bad today',\n 'get feed dogs poppy gets angry watch together want play border areas crazy ones today bad',\n 'get feed dogs mac gets outta town watch together wanna play borderlands still cramps bad today',\n 'maybe get feed dogs way mac gets outta dnd al watch together wanna play football borderlands cramps bad today',\n 'get feed dogs way mac outta school also watch together wanna go borderlands cramps bad today',\n 'genuinely left gearboxofficial borderlands pic twitter com x okeh tmh',\n 'really left gearboxofficial borderlands pic twitter com x okeh tmh',\n 'really left gearboxofficial borderlands pic fm x okeh tmh',\n 'genuinely left rhandlerr rhandlerr pic twitter com x okeh tmh',\n 'genuinely left rhandlerr rhandlerr pic twitter com x okeh tmh',\n '',\n 'holy shit borderlands ass',\n 'holy shit borderlands ass',\n 'holy shit borderlands ass',\n 'holy shit borderlands st ass',\n 'holy shit borderlands ass',\n 'holy shit borderlands ass',\n 'live super interesting lol boss farms borderlands twitch tv prismey',\n 'live super interesting lol boss farms borderlands twitch tv prismey',\n 'live super interesting lol boss farms borderland',\n 'live super interesting lol boss farms borderlands twitch tv prismey',\n 'via live super interesting lol boss farms borderlands twitch tv prismey',\n '',\n 'unpopular opinion none games good',\n 'unpopular opinion none games good',\n 'unpopular view none games good',\n 'unpopular opinion none games good',\n 'unpopular opinion none perhaps games good',\n 'unpopular opinion neither games good',\n 'burn babi',\n 'burn babi',\n 'burn aall bi',\n 'babi',\n 'unk burn babies unk',\n 'unk burn bookmark permalink unk',\n 'atleast borderlands ch',\n 'least borderlands ch',\n 'least border guards ch',\n 'atleast borderlands match',\n 'atleast borderlands come ch',\n 'atleast borderlands cheer everyth',\n 'borderlands trash also lowkey lit big sads easi',\n 'borderlands trash also lowkey illuminated big sads easi',\n 'borderlands thrash also quietly lit large gardens easi',\n 'borderlands trash also lowkey lit big easi',\n 'borderlands trash also real lowkey lit big sads easi',\n 'borderlands trash really lowkey lit big easi',\n 'gearboxofficial since playing borderlands games friend really taste something discovered battleborn way buy anymore looks sooo good fun play',\n 'gearboxofficial played borderlands games friend really want discovered battleborn way buy anymore looks sooo good fun play',\n 'gearboxofficial since playing borderlands games friend really taste something discovered battleborn way buy anymore looo good fun play',\n 'gearboxofficial since living borderlands movies friend really taste something discovered battleborn meaning money buy anymore looks sooo exciting fun play',\n 'gearboxofficial since playing borderlands games friend really natural taste something remember discovered battleborn way buy stuff anymore simply looks sooo good enough fun play',\n 'gearboxofficial since playing borderlands games friend taste something discovered battleborn way buy looks sooo bad fun play',\n 'jackothyzine first piece fan made borderlands merch excited see beautiful works artists participated pic twitter com lsmr szatv',\n 'jackothyzine first fan borderlands merch excited see beautiful works participating artists pic twitter com lsmr szatv',\n 'jackothyzine first piece fan made borderlands merch excited see beautiful work artists involved pic wikipedia com lsmr atv',\n 'rhandlerr first piece fan made borderlands merch excited see beautiful works artists participated pic twitter com lsmr szatv',\n 'rhandlerr first piece fan made borderlands merch excited see beautiful works artists participated pic twitter com lsmr szatv',\n '',\n 'guess cross play took long',\n 'guess cross play took long',\n 'guess cross game took long',\n 'guess cross play took wel',\n 'time guess cross play never took long',\n 'second guess cross play took long',\n 'fantastic day today congratulations gearboxofficial k borderlands story makes feel emotions best looking dlc mile boot thank letting join famili',\n 'today fantastic day congratulations gearboxofficial k borderlands history makes feel emotions plus best looking dlc thank letting join famili',\n 'congratulations gearboxofficial k borderland',\n 'fantastic day today congratulations gearboxofficial k borderlands story makes feel better awesome looking dlc mile boot thank letting join ur famili',\n 'fantastic day today congratulations president gearboxofficial k borderlands story makes one feel emotions third best looking dlc mile miles go boot thank letting join royal famili',\n 'fantastic review today congratulations brothers jason gearboxofficial story way feel emotions best looking thing mile boot great guys letting join famili',\n 'sky rocket superbadass caustic goliath borderland',\n 'sky rocket superbadass caustic goliath borderland',\n 'skye rose superbadass caucasian goliath boundary land',\n 'sky wolves superbadass caustic goliath borderland',\n 'sky rocket superbadass caustic goliath borderland',\n 'sky lines superbadass goliath borderland',\n 'chris loves borderlands one two',\n 'chris loves borderlands one two',\n 'chris loves edge one two',\n 'chris loves borderlands one two',\n 'chris almost loves borderlands one dozen two',\n 'chris got borderlands one two',\n 'stick mario kart borderlands shit compete someone else main motherfuckers hating people play gta last u',\n 'stay mario kart borderlands shit compete someone else main motherfuckers hate people play gta last u',\n 'stick mario kart borderlands shit compete someone else main motherfuckers hatting people play gta last u',\n 'stick sky kart borderlands shit compete someone blind main motherfuckers hating people play gta last u',\n 'stick mario kart borderlands shit compete someone else two main motherfuckers hating watching people play gta last two u',\n 'stick mario kart borderlands play shit compete someone else main motherfuckers hating games people really hate gta last u',\n 'whole year last year legit pleasure working k anz pez bro custom borderlands themed playstationau oh time would love work brand sureee still one favourite jobs poscauk pic twitter com ln snb jsn',\n 'happened year last year legitimate pleasure working k anz pez bro custom borderlands themed playstationau oh time would love work brand make sure still one favorite jobs poscauk pic twitter com ln snb jsn',\n 'last year legitimate pleasure working k anz pez bro custom borderlands theme playstationau oh tim',\n 'whole year last year legit pleasure working rhandlerr rhandlerr custom rhandlerr themed rhandlerr oh time would love work brand sureee still one favourite jobs rhandlerr pic twitter com ln snb jsn',\n 'n whole year last year legit pleasure working rhandlerr rhandlerr custom rhandlerr themed rhandlerr oh time would love work brand sureee still one favourite jobs rhandlerr pic twitter com ln snb jsn',\n '',\n 'mayhem murder aplenty time twitch tv bencompet',\n 'chaos murder galore time twitch tv bencompet',\n 'mayhem murder apollo time tch tv benefict',\n 'mayhem murder aplenty time twitch tv bencompet',\n 'mayhem murder aplenty time twitch tv bencompet',\n '',\n 'borderlands wtf',\n 'borderlands wtf',\n 'borderlands wtf',\n 'borderlands unk',\n 'borderlands wtf',\n 'wtf',\n 'cricket worst hivemind fandom done times would love better tarzan level kingdom hearts bad borderland',\n 'cricket worst hive fandom done times like tarzan level kingdom hearts bad borderland',\n 'cricket worst fennel fennel done times like tarzan level kingdom hearts bad borderland',\n 'cricket worst hivemind fandom said times would love counting tarzan level kingdom hearts strong borderland',\n 'cricket dubbed worst single hivemind game fandom certainly done times would love better tarzan level kingdom hearts bad borderland',\n 'cricket already worst hivemind fandom done times would love better tarzan level eight hearts bad min',\n 'borderlands quite fun',\n 'borderlands really fun',\n 'borderlands pretty funni',\n 'borderlands quite differ',\n 'borderlands actually quite fun',\n 'borderlands stuff quite fun',\n 'making games brutally difficult business without team nothing industry already brutally underpaid vs others sham',\n 'making games brutally difficult business without team nothing industry already brutally underpaid others sham',\n 'making games difficult business nothing without team industry already underpaying oth',\n 'making games brutally difficult business without team nothing industry already brutally underpaid vs others sham',\n 'making games brutally difficult family business without team done nothing industry already brutally badly underpaid little vs others sham',\n 'making games particularly difficult business without original nothing industry seems already brutally underpaid around nintendo sham',\n 'sweet',\n 'sweet',\n 'sweat',\n 'sweet',\n 'sweet',\n '',\n 'borderland',\n 'borderland',\n 'borderland',\n 'borderland',\n 'someone borderland',\n 'borderland',\n 'epicgames k steam add crossplay borderlands gonna make compatible console wast',\n 'epicgames k steam add crossplay borderlands make compatible console wast',\n ...]"
          },
          "metadata": {}
        }
      ]
    },
    {
      "cell_type": "code",
      "source": [
        "max_features = 2000\n",
        "tokenizer = Tokenizer(num_words=max_features, split=' ')\n",
        "tokenizer.fit_on_texts(corpus)\n",
        "X = tokenizer.texts_to_sequences(corpus)\n",
        "X = pad_sequences(X, maxlen=100)"
      ],
      "metadata": {
        "execution": {
          "iopub.status.busy": "2024-08-09T12:10:02.89275Z",
          "iopub.execute_input": "2024-08-09T12:10:02.893126Z",
          "iopub.status.idle": "2024-08-09T12:10:05.605101Z",
          "shell.execute_reply.started": "2024-08-09T12:10:02.893094Z",
          "shell.execute_reply": "2024-08-09T12:10:05.604292Z"
        },
        "trusted": true,
        "id": "MzjKPG-AZb1S"
      },
      "execution_count": null,
      "outputs": []
    },
    {
      "cell_type": "code",
      "source": [
        "X"
      ],
      "metadata": {
        "execution": {
          "iopub.status.busy": "2024-08-09T12:10:05.606307Z",
          "iopub.execute_input": "2024-08-09T12:10:05.607019Z",
          "iopub.status.idle": "2024-08-09T12:10:05.614313Z",
          "shell.execute_reply.started": "2024-08-09T12:10:05.606985Z",
          "shell.execute_reply": "2024-08-09T12:10:05.613374Z"
        },
        "trusted": true,
        "id": "AtYiY8IlZb1S",
        "outputId": "aa7e403c-348b-44da-b8ef-190cef819506"
      },
      "execution_count": null,
      "outputs": [
        {
          "execution_count": 128,
          "output_type": "execute_result",
          "data": {
            "text/plain": "array([[   0,    0,    0, ...,  188,   93,   69],\n       [   0,    0,    0, ...,    0,  300,  844],\n       [   0,    0,    0, ...,   93,   69,  844],\n       ...,\n       [   0,    0,    0, ...,   54, 1223,  379],\n       [   0,    0,    0, ...,   34,  379,   84],\n       [   0,    0,    0, ...,  611, 1223,  379]], dtype=int32)"
          },
          "metadata": {}
        }
      ]
    },
    {
      "cell_type": "code",
      "source": [
        "label_encoder = LabelEncoder()\n",
        "y = label_encoder.fit_transform(df['Sentiment'])\n",
        "y = to_categorical(y, num_classes=4)"
      ],
      "metadata": {
        "execution": {
          "iopub.status.busy": "2024-08-09T12:10:05.620254Z",
          "iopub.execute_input": "2024-08-09T12:10:05.620631Z",
          "iopub.status.idle": "2024-08-09T12:10:05.644966Z",
          "shell.execute_reply.started": "2024-08-09T12:10:05.620603Z",
          "shell.execute_reply": "2024-08-09T12:10:05.644056Z"
        },
        "trusted": true,
        "id": "YA7vPCwfZb1S"
      },
      "execution_count": null,
      "outputs": []
    },
    {
      "cell_type": "code",
      "source": [
        "vocab_size = max_features\n",
        "embedding_dim = 128\n",
        "max_sequence_length = 100\n",
        "num_classes = 4\n",
        "\n",
        "model = Sequential()\n",
        "model.add(Embedding(input_dim=vocab_size, output_dim=embedding_dim))\n",
        "model.add(SpatialDropout1D(0.2))\n",
        "model.add(LSTM(100, dropout=0.2, recurrent_dropout=0.2))\n",
        "model.add(Dense(num_classes, activation='softmax'))\n",
        "\n",
        "model.compile(loss='categorical_crossentropy', optimizer='adam', metrics=['accuracy'])\n",
        "\n",
        "\n",
        "model.build(input_shape=(None, max_sequence_length))\n",
        "\n",
        "model.summary()"
      ],
      "metadata": {
        "execution": {
          "iopub.status.busy": "2024-08-09T12:12:27.570676Z",
          "iopub.execute_input": "2024-08-09T12:12:27.571575Z",
          "iopub.status.idle": "2024-08-09T12:12:27.858834Z",
          "shell.execute_reply.started": "2024-08-09T12:12:27.571535Z",
          "shell.execute_reply": "2024-08-09T12:12:27.857971Z"
        },
        "trusted": true,
        "id": "xFEZ8ZFoZb1S",
        "outputId": "c9d349ac-cd3b-40df-d1db-9f42ed01952d"
      },
      "execution_count": null,
      "outputs": [
        {
          "output_type": "display_data",
          "data": {
            "text/plain": "\u001b[1mModel: \"sequential_6\"\u001b[0m\n",
            "text/html": "<pre style=\"white-space:pre;overflow-x:auto;line-height:normal;font-family:Menlo,'DejaVu Sans Mono',consolas,'Courier New',monospace\"><span style=\"font-weight: bold\">Model: \"sequential_6\"</span>\n</pre>\n"
          },
          "metadata": {}
        },
        {
          "output_type": "display_data",
          "data": {
            "text/plain": "┏━━━━━━━━━━━━━━━━━━━━━━━━━━━━━━━━━┳━━━━━━━━━━━━━━━━━━━━━━━━┳━━━━━━━━━━━━━━━┓\n┃\u001b[1m \u001b[0m\u001b[1mLayer (type)                   \u001b[0m\u001b[1m \u001b[0m┃\u001b[1m \u001b[0m\u001b[1mOutput Shape          \u001b[0m\u001b[1m \u001b[0m┃\u001b[1m \u001b[0m\u001b[1m      Param #\u001b[0m\u001b[1m \u001b[0m┃\n┡━━━━━━━━━━━━━━━━━━━━━━━━━━━━━━━━━╇━━━━━━━━━━━━━━━━━━━━━━━━╇━━━━━━━━━━━━━━━┩\n│ embedding_4 (\u001b[38;5;33mEmbedding\u001b[0m)         │ (\u001b[38;5;45mNone\u001b[0m, \u001b[38;5;34m100\u001b[0m, \u001b[38;5;34m128\u001b[0m)       │       \u001b[38;5;34m256,000\u001b[0m │\n├─────────────────────────────────┼────────────────────────┼───────────────┤\n│ spatial_dropout1d_4             │ (\u001b[38;5;45mNone\u001b[0m, \u001b[38;5;34m100\u001b[0m, \u001b[38;5;34m128\u001b[0m)       │             \u001b[38;5;34m0\u001b[0m │\n│ (\u001b[38;5;33mSpatialDropout1D\u001b[0m)              │                        │               │\n├─────────────────────────────────┼────────────────────────┼───────────────┤\n│ lstm_5 (\u001b[38;5;33mLSTM\u001b[0m)                   │ (\u001b[38;5;45mNone\u001b[0m, \u001b[38;5;34m100\u001b[0m)            │        \u001b[38;5;34m91,600\u001b[0m │\n├─────────────────────────────────┼────────────────────────┼───────────────┤\n│ dense_4 (\u001b[38;5;33mDense\u001b[0m)                 │ (\u001b[38;5;45mNone\u001b[0m, \u001b[38;5;34m4\u001b[0m)              │           \u001b[38;5;34m404\u001b[0m │\n└─────────────────────────────────┴────────────────────────┴───────────────┘\n",
            "text/html": "<pre style=\"white-space:pre;overflow-x:auto;line-height:normal;font-family:Menlo,'DejaVu Sans Mono',consolas,'Courier New',monospace\">┏━━━━━━━━━━━━━━━━━━━━━━━━━━━━━━━━━┳━━━━━━━━━━━━━━━━━━━━━━━━┳━━━━━━━━━━━━━━━┓\n┃<span style=\"font-weight: bold\"> Layer (type)                    </span>┃<span style=\"font-weight: bold\"> Output Shape           </span>┃<span style=\"font-weight: bold\">       Param # </span>┃\n┡━━━━━━━━━━━━━━━━━━━━━━━━━━━━━━━━━╇━━━━━━━━━━━━━━━━━━━━━━━━╇━━━━━━━━━━━━━━━┩\n│ embedding_4 (<span style=\"color: #0087ff; text-decoration-color: #0087ff\">Embedding</span>)         │ (<span style=\"color: #00d7ff; text-decoration-color: #00d7ff\">None</span>, <span style=\"color: #00af00; text-decoration-color: #00af00\">100</span>, <span style=\"color: #00af00; text-decoration-color: #00af00\">128</span>)       │       <span style=\"color: #00af00; text-decoration-color: #00af00\">256,000</span> │\n├─────────────────────────────────┼────────────────────────┼───────────────┤\n│ spatial_dropout1d_4             │ (<span style=\"color: #00d7ff; text-decoration-color: #00d7ff\">None</span>, <span style=\"color: #00af00; text-decoration-color: #00af00\">100</span>, <span style=\"color: #00af00; text-decoration-color: #00af00\">128</span>)       │             <span style=\"color: #00af00; text-decoration-color: #00af00\">0</span> │\n│ (<span style=\"color: #0087ff; text-decoration-color: #0087ff\">SpatialDropout1D</span>)              │                        │               │\n├─────────────────────────────────┼────────────────────────┼───────────────┤\n│ lstm_5 (<span style=\"color: #0087ff; text-decoration-color: #0087ff\">LSTM</span>)                   │ (<span style=\"color: #00d7ff; text-decoration-color: #00d7ff\">None</span>, <span style=\"color: #00af00; text-decoration-color: #00af00\">100</span>)            │        <span style=\"color: #00af00; text-decoration-color: #00af00\">91,600</span> │\n├─────────────────────────────────┼────────────────────────┼───────────────┤\n│ dense_4 (<span style=\"color: #0087ff; text-decoration-color: #0087ff\">Dense</span>)                 │ (<span style=\"color: #00d7ff; text-decoration-color: #00d7ff\">None</span>, <span style=\"color: #00af00; text-decoration-color: #00af00\">4</span>)              │           <span style=\"color: #00af00; text-decoration-color: #00af00\">404</span> │\n└─────────────────────────────────┴────────────────────────┴───────────────┘\n</pre>\n"
          },
          "metadata": {}
        },
        {
          "output_type": "display_data",
          "data": {
            "text/plain": "\u001b[1m Total params: \u001b[0m\u001b[38;5;34m348,004\u001b[0m (1.33 MB)\n",
            "text/html": "<pre style=\"white-space:pre;overflow-x:auto;line-height:normal;font-family:Menlo,'DejaVu Sans Mono',consolas,'Courier New',monospace\"><span style=\"font-weight: bold\"> Total params: </span><span style=\"color: #00af00; text-decoration-color: #00af00\">348,004</span> (1.33 MB)\n</pre>\n"
          },
          "metadata": {}
        },
        {
          "output_type": "display_data",
          "data": {
            "text/plain": "\u001b[1m Trainable params: \u001b[0m\u001b[38;5;34m348,004\u001b[0m (1.33 MB)\n",
            "text/html": "<pre style=\"white-space:pre;overflow-x:auto;line-height:normal;font-family:Menlo,'DejaVu Sans Mono',consolas,'Courier New',monospace\"><span style=\"font-weight: bold\"> Trainable params: </span><span style=\"color: #00af00; text-decoration-color: #00af00\">348,004</span> (1.33 MB)\n</pre>\n"
          },
          "metadata": {}
        },
        {
          "output_type": "display_data",
          "data": {
            "text/plain": "\u001b[1m Non-trainable params: \u001b[0m\u001b[38;5;34m0\u001b[0m (0.00 B)\n",
            "text/html": "<pre style=\"white-space:pre;overflow-x:auto;line-height:normal;font-family:Menlo,'DejaVu Sans Mono',consolas,'Courier New',monospace\"><span style=\"font-weight: bold\"> Non-trainable params: </span><span style=\"color: #00af00; text-decoration-color: #00af00\">0</span> (0.00 B)\n</pre>\n"
          },
          "metadata": {}
        }
      ]
    },
    {
      "cell_type": "code",
      "source": [
        "X_train, X_test, y_train, y_test = train_test_split(X, y, test_size=0.33, random_state=42)"
      ],
      "metadata": {
        "execution": {
          "iopub.status.busy": "2024-08-09T12:13:04.157473Z",
          "iopub.execute_input": "2024-08-09T12:13:04.158393Z",
          "iopub.status.idle": "2024-08-09T12:13:04.187233Z",
          "shell.execute_reply.started": "2024-08-09T12:13:04.158358Z",
          "shell.execute_reply": "2024-08-09T12:13:04.186395Z"
        },
        "trusted": true,
        "id": "hjBNK7y4Zb1S"
      },
      "execution_count": null,
      "outputs": []
    },
    {
      "cell_type": "code",
      "source": [
        "X_train.shape,X_test.shape"
      ],
      "metadata": {
        "execution": {
          "iopub.status.busy": "2024-08-09T12:13:09.174084Z",
          "iopub.execute_input": "2024-08-09T12:13:09.174841Z",
          "iopub.status.idle": "2024-08-09T12:13:09.181022Z",
          "shell.execute_reply.started": "2024-08-09T12:13:09.174802Z",
          "shell.execute_reply": "2024-08-09T12:13:09.179964Z"
        },
        "trusted": true,
        "id": "OAQdi9S_Zb1T",
        "outputId": "06054d11-ff0e-4ff9-b141-1f188a252a1b"
      },
      "execution_count": null,
      "outputs": [
        {
          "execution_count": 140,
          "output_type": "execute_result",
          "data": {
            "text/plain": "((49577, 100), (24419, 100))"
          },
          "metadata": {}
        }
      ]
    },
    {
      "cell_type": "code",
      "source": [
        "y_train.shape,y_test.shape"
      ],
      "metadata": {
        "execution": {
          "iopub.status.busy": "2024-08-09T12:13:10.131027Z",
          "iopub.execute_input": "2024-08-09T12:13:10.131415Z",
          "iopub.status.idle": "2024-08-09T12:13:10.137424Z",
          "shell.execute_reply.started": "2024-08-09T12:13:10.131384Z",
          "shell.execute_reply": "2024-08-09T12:13:10.136445Z"
        },
        "trusted": true,
        "id": "GDYujCziZb1T",
        "outputId": "6d6025d5-8d2d-498d-c986-5cc3cf5e6350"
      },
      "execution_count": null,
      "outputs": [
        {
          "execution_count": 141,
          "output_type": "execute_result",
          "data": {
            "text/plain": "((49577, 4), (24419, 4))"
          },
          "metadata": {}
        }
      ]
    },
    {
      "cell_type": "code",
      "source": [
        "batch_size = 32\n",
        "model.fit(X_train, y_train, epochs = 15, batch_size=batch_size, verbose = 2)"
      ],
      "metadata": {
        "execution": {
          "iopub.status.busy": "2024-08-09T12:13:51.845236Z",
          "iopub.execute_input": "2024-08-09T12:13:51.84618Z",
          "iopub.status.idle": "2024-08-09T13:01:21.720145Z",
          "shell.execute_reply.started": "2024-08-09T12:13:51.846146Z",
          "shell.execute_reply": "2024-08-09T13:01:21.719147Z"
        },
        "trusted": true,
        "id": "he_6MYA-Zb1T",
        "outputId": "349d56c6-7b27-4ee4-d476-a1b4b204b748"
      },
      "execution_count": null,
      "outputs": [
        {
          "name": "stdout",
          "text": "Epoch 1/15\n1550/1550 - 196s - 127ms/step - accuracy: 0.5622 - loss: 1.0388\nEpoch 2/15\n1550/1550 - 192s - 124ms/step - accuracy: 0.6476 - loss: 0.8686\nEpoch 3/15\n1550/1550 - 191s - 123ms/step - accuracy: 0.6826 - loss: 0.7871\nEpoch 4/15\n1550/1550 - 191s - 123ms/step - accuracy: 0.7085 - loss: 0.7266\nEpoch 5/15\n1550/1550 - 191s - 123ms/step - accuracy: 0.7325 - loss: 0.6732\nEpoch 6/15\n1550/1550 - 190s - 123ms/step - accuracy: 0.7532 - loss: 0.6226\nEpoch 7/15\n1550/1550 - 187s - 121ms/step - accuracy: 0.7715 - loss: 0.5777\nEpoch 8/15\n1550/1550 - 188s - 121ms/step - accuracy: 0.7882 - loss: 0.5353\nEpoch 9/15\n1550/1550 - 187s - 121ms/step - accuracy: 0.8032 - loss: 0.5005\nEpoch 10/15\n1550/1550 - 187s - 121ms/step - accuracy: 0.8146 - loss: 0.4694\nEpoch 11/15\n1550/1550 - 201s - 130ms/step - accuracy: 0.8276 - loss: 0.4360\nEpoch 12/15\n1550/1550 - 187s - 121ms/step - accuracy: 0.8357 - loss: 0.4144\nEpoch 13/15\n1550/1550 - 187s - 120ms/step - accuracy: 0.8449 - loss: 0.3914\nEpoch 14/15\n1550/1550 - 186s - 120ms/step - accuracy: 0.8540 - loss: 0.3701\nEpoch 15/15\n1550/1550 - 187s - 121ms/step - accuracy: 0.8607 - loss: 0.3521\n",
          "output_type": "stream"
        },
        {
          "execution_count": 143,
          "output_type": "execute_result",
          "data": {
            "text/plain": "<keras.src.callbacks.history.History at 0x7c03f40e0670>"
          },
          "metadata": {}
        }
      ]
    },
    {
      "cell_type": "code",
      "source": [
        "loss, accuracy = model.evaluate(X_test, y_test, verbose=0)\n",
        "print(f\"Test Accuracy: {accuracy:.4f}\")\n"
      ],
      "metadata": {
        "execution": {
          "iopub.status.busy": "2024-08-09T13:02:03.061352Z",
          "iopub.execute_input": "2024-08-09T13:02:03.061643Z",
          "iopub.status.idle": "2024-08-09T13:02:29.975733Z",
          "shell.execute_reply.started": "2024-08-09T13:02:03.061618Z",
          "shell.execute_reply": "2024-08-09T13:02:29.974793Z"
        },
        "trusted": true,
        "id": "nPY7cBuhZb1T",
        "outputId": "acc76ede-4690-4554-def8-0152a1aeac15"
      },
      "execution_count": null,
      "outputs": [
        {
          "name": "stdout",
          "text": "Test Accuracy: 0.7890\n",
          "output_type": "stream"
        }
      ]
    },
    {
      "cell_type": "code",
      "source": [
        "y_pred = model.predict(X_test)\n",
        "y_pred_classes = np.argmax(y_pred, axis=1)\n",
        "y_true = np.argmax(y_test, axis=1)\n",
        "\n",
        "# Classification report\n",
        "print(\"Classification Report:\")\n",
        "print(classification_report(y_true, y_pred_classes))"
      ],
      "metadata": {
        "execution": {
          "iopub.status.busy": "2024-08-09T13:01:21.722129Z",
          "iopub.execute_input": "2024-08-09T13:01:21.722786Z",
          "iopub.status.idle": "2024-08-09T13:02:02.752896Z",
          "shell.execute_reply.started": "2024-08-09T13:01:21.722749Z",
          "shell.execute_reply": "2024-08-09T13:02:02.751899Z"
        },
        "trusted": true,
        "id": "4SCgihKGZb1T",
        "outputId": "8bc5d5b3-e872-45d7-cb75-0959f5b606b7"
      },
      "execution_count": null,
      "outputs": [
        {
          "name": "stdout",
          "text": "\u001b[1m764/764\u001b[0m \u001b[32m━━━━━━━━━━━━━━━━━━━━\u001b[0m\u001b[37m\u001b[0m \u001b[1m27s\u001b[0m 36ms/step\nClassification Report:\n              precision    recall  f1-score   support\n\n           0       0.81      0.67      0.74      4415\n           1       0.84      0.82      0.83      7271\n           2       0.81      0.76      0.79      5970\n           3       0.72      0.85      0.78      6763\n\n    accuracy                           0.79     24419\n   macro avg       0.80      0.78      0.78     24419\nweighted avg       0.79      0.79      0.79     24419\n\n",
          "output_type": "stream"
        }
      ]
    },
    {
      "cell_type": "code",
      "source": [
        "cm = confusion_matrix(y_true, y_pred_classes)\n",
        "sns.heatmap(cm, annot=True, fmt='d', cmap='Blues')\n",
        "plt.xlabel('Predicted')\n",
        "plt.ylabel('True')\n",
        "plt.title('Confusion Matrix')\n",
        "plt.show()"
      ],
      "metadata": {
        "execution": {
          "iopub.status.busy": "2024-08-09T13:02:02.754235Z",
          "iopub.execute_input": "2024-08-09T13:02:02.754559Z",
          "iopub.status.idle": "2024-08-09T13:02:03.059491Z",
          "shell.execute_reply.started": "2024-08-09T13:02:02.754532Z",
          "shell.execute_reply": "2024-08-09T13:02:03.058652Z"
        },
        "trusted": true,
        "id": "-kCsRRXUZb1T",
        "outputId": "494d29ed-b660-4cc1-f91c-c72fcc143868"
      },
      "execution_count": null,
      "outputs": [
        {
          "output_type": "display_data",
          "data": {
            "text/plain": "<Figure size 640x480 with 2 Axes>",
            "image/png": "[encoded data removed]"
          },
          "metadata": {}
        }
      ]
    },
    {
      "cell_type": "code",
      "source": [
        "def preprocess_text(text, tokenizer, max_sequence_length):\n",
        "    ps = PorterStemmer()\n",
        "    text = re.sub('[^a-zA-Z]', \" \", text)\n",
        "    text = text.lower()\n",
        "    text = text.split()\n",
        "    text = [word for word in text if word not in stopwords.words('english')]\n",
        "    text = ' '.join(text)\n",
        "    text = ps.stem(text)\n",
        "\n",
        "    sequence = tokenizer.texts_to_sequences([text])\n",
        "\n",
        "    padded_sequence = pad_sequences(sequence, maxlen=max_sequence_length)\n",
        "\n",
        "    return padded_sequence\n",
        "\n",
        "new_tweet = \"I absolutely love this product! It's fantastic.\"\n",
        "\n",
        "processed_tweet = preprocess_text(new_tweet, tokenizer, max_sequence_length)\n",
        "\n",
        "prediction = model.predict(processed_tweet)\n",
        "predicted_class = np.argmax(prediction, axis=1)[0]\n",
        "\n",
        "class_labels = label_encoder.classes_\n",
        "predicted_sentiment = class_labels[predicted_class]\n",
        "\n",
        "print(f\"Tweet: {new_tweet}\")\n",
        "print(f\"Predicted Sentiment: {predicted_sentiment}\")\n"
      ],
      "metadata": {
        "execution": {
          "iopub.status.busy": "2024-08-09T13:05:08.966362Z",
          "iopub.execute_input": "2024-08-09T13:05:08.96674Z",
          "iopub.status.idle": "2024-08-09T13:05:09.080261Z",
          "shell.execute_reply.started": "2024-08-09T13:05:08.966713Z",
          "shell.execute_reply": "2024-08-09T13:05:09.079357Z"
        },
        "trusted": true,
        "id": "oTTQ4wQfZb1T",
        "outputId": "f4bc8bc8-2f3a-4950-bf6e-9f35c87fc40b"
      },
      "execution_count": null,
      "outputs": [
        {
          "name": "stdout",
          "text": "\u001b[1m1/1\u001b[0m \u001b[32m━━━━━━━━━━━━━━━━━━━━\u001b[0m\u001b[37m\u001b[0m \u001b[1m0s\u001b[0m 59ms/step\nTweet: I absolutely love this product! It's fantastic.\nPredicted Sentiment: Positive\n",
          "output_type": "stream"
        }
      ]
    },
    {
      "cell_type": "code",
      "source": [
        "def preprocess_text(text, tokenizer, max_sequence_length):\n",
        "    ps = PorterStemmer()\n",
        "    text = re.sub('[^a-zA-Z]', \" \", text)\n",
        "    text = text.lower()\n",
        "    text = text.split()\n",
        "    text = [word for word in text if word not in stopwords.words('english')]\n",
        "    text = ' '.join(text)\n",
        "    text = ps.stem(text)\n",
        "\n",
        "    sequence = tokenizer.texts_to_sequences([text])\n",
        "\n",
        "    padded_sequence = pad_sequences(sequence, maxlen=max_sequence_length)\n",
        "\n",
        "    return padded_sequence\n",
        "\n",
        "new_tweet = \"@Microsoft Why do I pay for WORD when it funct...\"\n",
        "\n",
        "processed_tweet = preprocess_text(new_tweet, tokenizer, max_sequence_length)\n",
        "\n",
        "prediction = model.predict(processed_tweet)\n",
        "predicted_class = np.argmax(prediction, axis=1)[0]\n",
        "\n",
        "class_labels = label_encoder.classes_\n",
        "predicted_sentiment = class_labels[predicted_class]\n",
        "\n",
        "print(f\"Tweet: {new_tweet}\")\n",
        "print(f\"Predicted Sentiment: {predicted_sentiment}\")\n"
      ],
      "metadata": {
        "execution": {
          "iopub.status.busy": "2024-08-09T13:09:09.002723Z",
          "iopub.execute_input": "2024-08-09T13:09:09.003433Z",
          "iopub.status.idle": "2024-08-09T13:09:09.112163Z",
          "shell.execute_reply.started": "2024-08-09T13:09:09.003401Z",
          "shell.execute_reply": "2024-08-09T13:09:09.111209Z"
        },
        "trusted": true,
        "id": "GMDMKp9_Zb1T",
        "outputId": "5055663b-a290-4d10-d116-e0def0d2d067"
      },
      "execution_count": null,
      "outputs": [
        {
          "name": "stdout",
          "text": "\u001b[1m1/1\u001b[0m \u001b[32m━━━━━━━━━━━━━━━━━━━━\u001b[0m\u001b[37m\u001b[0m \u001b[1m0s\u001b[0m 54ms/step\nTweet: @Microsoft Why do I pay for WORD when it funct...\nPredicted Sentiment: Negative\n",
          "output_type": "stream"
        }
      ]
    },
    {
      "cell_type": "code",
      "source": [
        "def preprocess_text(text, tokenizer, max_sequence_length):\n",
        "    ps = PorterStemmer()\n",
        "    text = re.sub('[^a-zA-Z]', \" \", text)\n",
        "    text = text.lower()\n",
        "    text = text.split()\n",
        "    text = [word for word in text if word not in stopwords.words('english')]\n",
        "    text = ' '.join(text)\n",
        "    text = ps.stem(text)\n",
        "\n",
        "    sequence = tokenizer.texts_to_sequences([text])\n",
        "\n",
        "    padded_sequence = pad_sequences(sequence, maxlen=max_sequence_length)\n",
        "\n",
        "    return padded_sequence\n",
        "\n",
        "new_tweet = \"Now the President is slapping Americans in the...\"\n",
        "\n",
        "processed_tweet = preprocess_text(new_tweet, tokenizer, max_sequence_length)\n",
        "\n",
        "prediction = model.predict(processed_tweet)\n",
        "predicted_class = np.argmax(prediction, axis=1)[0]\n",
        "\n",
        "class_labels = label_encoder.classes_\n",
        "predicted_sentiment = class_labels[predicted_class]\n",
        "\n",
        "print(f\"Tweet: {new_tweet}\")\n",
        "print(f\"Predicted Sentiment: {predicted_sentiment}\")\n"
      ],
      "metadata": {
        "execution": {
          "iopub.status.busy": "2024-08-09T13:12:24.862537Z",
          "iopub.execute_input": "2024-08-09T13:12:24.863268Z",
          "iopub.status.idle": "2024-08-09T13:12:24.966988Z",
          "shell.execute_reply.started": "2024-08-09T13:12:24.863234Z",
          "shell.execute_reply": "2024-08-09T13:12:24.966091Z"
        },
        "trusted": true,
        "id": "nPQ4rBu7Zb1Z",
        "outputId": "0206c246-a5bb-4ac0-cc4e-05c746335838"
      },
      "execution_count": null,
      "outputs": [
        {
          "name": "stdout",
          "text": "\u001b[1m1/1\u001b[0m \u001b[32m━━━━━━━━━━━━━━━━━━━━\u001b[0m\u001b[37m\u001b[0m \u001b[1m0s\u001b[0m 51ms/step\nTweet: Now the President is slapping Americans in the...\nPredicted Sentiment: Neutral\n",
          "output_type": "stream"
        }
      ]
    },
    {
      "cell_type": "code",
      "source": [
        "vocab_size = max_features  # Ensure this matches tokenizer's num_words\n",
        "embedding_dim = 128\n",
        "max_sequence_length = 100\n",
        "num_classes = 4\n",
        "\n",
        "# Build the RNN model\n",
        "model_rnn = Sequential()\n",
        "model_rnn.add(Embedding(input_dim=vocab_size, output_dim=embedding_dim, input_length=max_sequence_length))\n",
        "model_rnn.add(SpatialDropout1D(0.2))\n",
        "model_rnn.add(SimpleRNN(100, dropout=0.2, recurrent_dropout=0.2))\n",
        "model_rnn.add(Dense(num_classes, activation='softmax'))\n",
        "\n",
        "# Compile the model\n",
        "model_rnn.compile(loss='categorical_crossentropy', optimizer='adam', metrics=['accuracy'])\n",
        "\n",
        "# Build the model by providing a sample input\n",
        "model_rnn.build(input_shape=(None, max_sequence_length))\n",
        "\n",
        "# Display the model summary\n",
        "model_rnn.summary()"
      ],
      "metadata": {
        "execution": {
          "iopub.status.busy": "2024-08-09T13:30:58.830347Z",
          "iopub.execute_input": "2024-08-09T13:30:58.831391Z",
          "iopub.status.idle": "2024-08-09T13:30:58.889477Z",
          "shell.execute_reply.started": "2024-08-09T13:30:58.831348Z",
          "shell.execute_reply": "2024-08-09T13:30:58.88865Z"
        },
        "trusted": true,
        "id": "WdUn6woKZb1Z",
        "outputId": "8bc79933-75f0-4b57-98a7-fc9a9ea19aa7"
      },
      "execution_count": null,
      "outputs": [
        {
          "name": "stderr",
          "text": "/opt/conda/lib/python3.10/site-packages/keras/src/layers/core/embedding.py:90: UserWarning: Argument `input_length` is deprecated. Just remove it.\n  warnings.warn(\n",
          "output_type": "stream"
        },
        {
          "output_type": "display_data",
          "data": {
            "text/plain": "\u001b[1mModel: \"sequential_11\"\u001b[0m\n",
            "text/html": "<pre style=\"white-space:pre;overflow-x:auto;line-height:normal;font-family:Menlo,'DejaVu Sans Mono',consolas,'Courier New',monospace\"><span style=\"font-weight: bold\">Model: \"sequential_11\"</span>\n</pre>\n"
          },
          "metadata": {}
        },
        {
          "output_type": "display_data",
          "data": {
            "text/plain": "┏━━━━━━━━━━━━━━━━━━━━━━━━━━━━━━━━━┳━━━━━━━━━━━━━━━━━━━━━━━━┳━━━━━━━━━━━━━━━┓\n┃\u001b[1m \u001b[0m\u001b[1mLayer (type)                   \u001b[0m\u001b[1m \u001b[0m┃\u001b[1m \u001b[0m\u001b[1mOutput Shape          \u001b[0m\u001b[1m \u001b[0m┃\u001b[1m \u001b[0m\u001b[1m      Param #\u001b[0m\u001b[1m \u001b[0m┃\n┡━━━━━━━━━━━━━━━━━━━━━━━━━━━━━━━━━╇━━━━━━━━━━━━━━━━━━━━━━━━╇━━━━━━━━━━━━━━━┩\n│ embedding_9 (\u001b[38;5;33mEmbedding\u001b[0m)         │ (\u001b[38;5;45mNone\u001b[0m, \u001b[38;5;34m100\u001b[0m, \u001b[38;5;34m128\u001b[0m)       │       \u001b[38;5;34m256,000\u001b[0m │\n├─────────────────────────────────┼────────────────────────┼───────────────┤\n│ spatial_dropout1d_9             │ (\u001b[38;5;45mNone\u001b[0m, \u001b[38;5;34m100\u001b[0m, \u001b[38;5;34m128\u001b[0m)       │             \u001b[38;5;34m0\u001b[0m │\n│ (\u001b[38;5;33mSpatialDropout1D\u001b[0m)              │                        │               │\n├─────────────────────────────────┼────────────────────────┼───────────────┤\n│ simple_rnn_4 (\u001b[38;5;33mSimpleRNN\u001b[0m)        │ (\u001b[38;5;45mNone\u001b[0m, \u001b[38;5;34m100\u001b[0m)            │        \u001b[38;5;34m22,900\u001b[0m │\n├─────────────────────────────────┼────────────────────────┼───────────────┤\n│ dense_9 (\u001b[38;5;33mDense\u001b[0m)                 │ (\u001b[38;5;45mNone\u001b[0m, \u001b[38;5;34m4\u001b[0m)              │           \u001b[38;5;34m404\u001b[0m │\n└─────────────────────────────────┴────────────────────────┴───────────────┘\n",
            "text/html": "<pre style=\"white-space:pre;overflow-x:auto;line-height:normal;font-family:Menlo,'DejaVu Sans Mono',consolas,'Courier New',monospace\">┏━━━━━━━━━━━━━━━━━━━━━━━━━━━━━━━━━┳━━━━━━━━━━━━━━━━━━━━━━━━┳━━━━━━━━━━━━━━━┓\n┃<span style=\"font-weight: bold\"> Layer (type)                    </span>┃<span style=\"font-weight: bold\"> Output Shape           </span>┃<span style=\"font-weight: bold\">       Param # </span>┃\n┡━━━━━━━━━━━━━━━━━━━━━━━━━━━━━━━━━╇━━━━━━━━━━━━━━━━━━━━━━━━╇━━━━━━━━━━━━━━━┩\n│ embedding_9 (<span style=\"color: #0087ff; text-decoration-color: #0087ff\">Embedding</span>)         │ (<span style=\"color: #00d7ff; text-decoration-color: #00d7ff\">None</span>, <span style=\"color: #00af00; text-decoration-color: #00af00\">100</span>, <span style=\"color: #00af00; text-decoration-color: #00af00\">128</span>)       │       <span style=\"color: #00af00; text-decoration-color: #00af00\">256,000</span> │\n├─────────────────────────────────┼────────────────────────┼───────────────┤\n│ spatial_dropout1d_9             │ (<span style=\"color: #00d7ff; text-decoration-color: #00d7ff\">None</span>, <span style=\"color: #00af00; text-decoration-color: #00af00\">100</span>, <span style=\"color: #00af00; text-decoration-color: #00af00\">128</span>)       │             <span style=\"color: #00af00; text-decoration-color: #00af00\">0</span> │\n│ (<span style=\"color: #0087ff; text-decoration-color: #0087ff\">SpatialDropout1D</span>)              │                        │               │\n├─────────────────────────────────┼────────────────────────┼───────────────┤\n│ simple_rnn_4 (<span style=\"color: #0087ff; text-decoration-color: #0087ff\">SimpleRNN</span>)        │ (<span style=\"color: #00d7ff; text-decoration-color: #00d7ff\">None</span>, <span style=\"color: #00af00; text-decoration-color: #00af00\">100</span>)            │        <span style=\"color: #00af00; text-decoration-color: #00af00\">22,900</span> │\n├─────────────────────────────────┼────────────────────────┼───────────────┤\n│ dense_9 (<span style=\"color: #0087ff; text-decoration-color: #0087ff\">Dense</span>)                 │ (<span style=\"color: #00d7ff; text-decoration-color: #00d7ff\">None</span>, <span style=\"color: #00af00; text-decoration-color: #00af00\">4</span>)              │           <span style=\"color: #00af00; text-decoration-color: #00af00\">404</span> │\n└─────────────────────────────────┴────────────────────────┴───────────────┘\n</pre>\n"
          },
          "metadata": {}
        },
        {
          "output_type": "display_data",
          "data": {
            "text/plain": "\u001b[1m Total params: \u001b[0m\u001b[38;5;34m279,304\u001b[0m (1.07 MB)\n",
            "text/html": "<pre style=\"white-space:pre;overflow-x:auto;line-height:normal;font-family:Menlo,'DejaVu Sans Mono',consolas,'Courier New',monospace\"><span style=\"font-weight: bold\"> Total params: </span><span style=\"color: #00af00; text-decoration-color: #00af00\">279,304</span> (1.07 MB)\n</pre>\n"
          },
          "metadata": {}
        },
        {
          "output_type": "display_data",
          "data": {
            "text/plain": "\u001b[1m Trainable params: \u001b[0m\u001b[38;5;34m279,304\u001b[0m (1.07 MB)\n",
            "text/html": "<pre style=\"white-space:pre;overflow-x:auto;line-height:normal;font-family:Menlo,'DejaVu Sans Mono',consolas,'Courier New',monospace\"><span style=\"font-weight: bold\"> Trainable params: </span><span style=\"color: #00af00; text-decoration-color: #00af00\">279,304</span> (1.07 MB)\n</pre>\n"
          },
          "metadata": {}
        },
        {
          "output_type": "display_data",
          "data": {
            "text/plain": "\u001b[1m Non-trainable params: \u001b[0m\u001b[38;5;34m0\u001b[0m (0.00 B)\n",
            "text/html": "<pre style=\"white-space:pre;overflow-x:auto;line-height:normal;font-family:Menlo,'DejaVu Sans Mono',consolas,'Courier New',monospace\"><span style=\"font-weight: bold\"> Non-trainable params: </span><span style=\"color: #00af00; text-decoration-color: #00af00\">0</span> (0.00 B)\n</pre>\n"
          },
          "metadata": {}
        }
      ]
    },
    {
      "cell_type": "code",
      "source": [
        "batch_size = 32\n",
        "model_rnn.fit(X_train, y_train, epochs = 50, batch_size=batch_size, verbose = 2)"
      ],
      "metadata": {
        "execution": {
          "iopub.status.busy": "2024-08-09T13:31:00.356603Z",
          "iopub.execute_input": "2024-08-09T13:31:00.357002Z",
          "iopub.status.idle": "2024-08-09T13:43:03.036097Z",
          "shell.execute_reply.started": "2024-08-09T13:31:00.356962Z",
          "shell.execute_reply": "2024-08-09T13:43:03.035155Z"
        },
        "trusted": true,
        "id": "BSAzYUjGZb1Z",
        "outputId": "3185ff5d-c0dd-4897-af06-90523bc51e64"
      },
      "execution_count": null,
      "outputs": [
        {
          "name": "stdout",
          "text": "Epoch 1/50\n1550/1550 - 20s - 13ms/step - accuracy: 0.4077 - loss: 1.2822\nEpoch 2/50\n1550/1550 - 14s - 9ms/step - accuracy: 0.5342 - loss: 1.0997\nEpoch 3/50\n1550/1550 - 14s - 9ms/step - accuracy: 0.5743 - loss: 1.0257\nEpoch 4/50\n1550/1550 - 14s - 9ms/step - accuracy: 0.6250 - loss: 0.9233\nEpoch 5/50\n1550/1550 - 14s - 9ms/step - accuracy: 0.6525 - loss: 0.8634\nEpoch 6/50\n1550/1550 - 14s - 9ms/step - accuracy: 0.6691 - loss: 0.8260\nEpoch 7/50\n1550/1550 - 14s - 9ms/step - accuracy: 0.6818 - loss: 0.7923\nEpoch 8/50\n1550/1550 - 14s - 9ms/step - accuracy: 0.6942 - loss: 0.7687\nEpoch 9/50\n1550/1550 - 14s - 9ms/step - accuracy: 0.7062 - loss: 0.7456\nEpoch 10/50\n1550/1550 - 14s - 9ms/step - accuracy: 0.7115 - loss: 0.7286\nEpoch 11/50\n1550/1550 - 14s - 9ms/step - accuracy: 0.7203 - loss: 0.7103\nEpoch 12/50\n1550/1550 - 14s - 9ms/step - accuracy: 0.7243 - loss: 0.6979\nEpoch 13/50\n1550/1550 - 14s - 9ms/step - accuracy: 0.7315 - loss: 0.6812\nEpoch 14/50\n1550/1550 - 14s - 9ms/step - accuracy: 0.7377 - loss: 0.6697\nEpoch 15/50\n1550/1550 - 14s - 9ms/step - accuracy: 0.7408 - loss: 0.6619\nEpoch 16/50\n1550/1550 - 14s - 9ms/step - accuracy: 0.7432 - loss: 0.6510\nEpoch 17/50\n1550/1550 - 14s - 9ms/step - accuracy: 0.7477 - loss: 0.6423\nEpoch 18/50\n1550/1550 - 14s - 9ms/step - accuracy: 0.7522 - loss: 0.6321\nEpoch 19/50\n1550/1550 - 14s - 9ms/step - accuracy: 0.7560 - loss: 0.6226\nEpoch 20/50\n1550/1550 - 14s - 9ms/step - accuracy: 0.7584 - loss: 0.6191\nEpoch 21/50\n1550/1550 - 14s - 9ms/step - accuracy: 0.7588 - loss: 0.6140\nEpoch 22/50\n1550/1550 - 14s - 9ms/step - accuracy: 0.7593 - loss: 0.6100\nEpoch 23/50\n1550/1550 - 14s - 9ms/step - accuracy: 0.7642 - loss: 0.6028\nEpoch 24/50\n1550/1550 - 14s - 9ms/step - accuracy: 0.7697 - loss: 0.5901\nEpoch 25/50\n1550/1550 - 14s - 9ms/step - accuracy: 0.7702 - loss: 0.5869\nEpoch 26/50\n1550/1550 - 14s - 9ms/step - accuracy: 0.7726 - loss: 0.5839\nEpoch 27/50\n1550/1550 - 14s - 9ms/step - accuracy: 0.7738 - loss: 0.5771\nEpoch 28/50\n1550/1550 - 14s - 9ms/step - accuracy: 0.7730 - loss: 0.5850\nEpoch 29/50\n1550/1550 - 14s - 9ms/step - accuracy: 0.7779 - loss: 0.5703\nEpoch 30/50\n1550/1550 - 14s - 9ms/step - accuracy: 0.7796 - loss: 0.5621\nEpoch 31/50\n1550/1550 - 14s - 9ms/step - accuracy: 0.7812 - loss: 0.5641\nEpoch 32/50\n1550/1550 - 14s - 9ms/step - accuracy: 0.7795 - loss: 0.5608\nEpoch 33/50\n1550/1550 - 14s - 9ms/step - accuracy: 0.7814 - loss: 0.5577\nEpoch 34/50\n1550/1550 - 14s - 9ms/step - accuracy: 0.7811 - loss: 0.5589\nEpoch 35/50\n1550/1550 - 14s - 9ms/step - accuracy: 0.7835 - loss: 0.5575\nEpoch 36/50\n1550/1550 - 14s - 9ms/step - accuracy: 0.7827 - loss: 0.5577\nEpoch 37/50\n1550/1550 - 14s - 9ms/step - accuracy: 0.7825 - loss: 0.5560\nEpoch 38/50\n1550/1550 - 14s - 9ms/step - accuracy: 0.7851 - loss: 0.5496\nEpoch 39/50\n1550/1550 - 14s - 9ms/step - accuracy: 0.7846 - loss: 0.5518\nEpoch 40/50\n1550/1550 - 14s - 9ms/step - accuracy: 0.7845 - loss: 0.5507\nEpoch 41/50\n1550/1550 - 14s - 9ms/step - accuracy: 0.7860 - loss: 0.5485\nEpoch 42/50\n1550/1550 - 14s - 9ms/step - accuracy: 0.7886 - loss: 0.5464\nEpoch 43/50\n1550/1550 - 14s - 9ms/step - accuracy: 0.7881 - loss: 0.5455\nEpoch 44/50\n1550/1550 - 14s - 9ms/step - accuracy: 0.7863 - loss: 0.5479\nEpoch 45/50\n1550/1550 - 14s - 9ms/step - accuracy: 0.7882 - loss: 0.5429\nEpoch 46/50\n1550/1550 - 14s - 9ms/step - accuracy: 0.7886 - loss: 0.5422\nEpoch 47/50\n1550/1550 - 14s - 9ms/step - accuracy: 0.7885 - loss: 0.5433\nEpoch 48/50\n1550/1550 - 14s - 9ms/step - accuracy: 0.7913 - loss: 0.5419\nEpoch 49/50\n1550/1550 - 14s - 9ms/step - accuracy: 0.7928 - loss: 0.5330\nEpoch 50/50\n1550/1550 - 14s - 9ms/step - accuracy: 0.7950 - loss: 0.5315\n",
          "output_type": "stream"
        },
        {
          "execution_count": 162,
          "output_type": "execute_result",
          "data": {
            "text/plain": "<keras.src.callbacks.history.History at 0x7bff3a379e40>"
          },
          "metadata": {}
        }
      ]
    },
    {
      "cell_type": "code",
      "source": [
        "loss, accuracy = model_rnn.evaluate(X_test, y_test, verbose=0)\n",
        "print(f\"Test Accuracy: {accuracy:.4f}\")\n"
      ],
      "metadata": {
        "execution": {
          "iopub.status.busy": "2024-08-09T13:43:03.037693Z",
          "iopub.execute_input": "2024-08-09T13:43:03.038003Z",
          "iopub.status.idle": "2024-08-09T13:43:07.333803Z",
          "shell.execute_reply.started": "2024-08-09T13:43:03.037975Z",
          "shell.execute_reply": "2024-08-09T13:43:07.332889Z"
        },
        "trusted": true,
        "id": "NQvdECL6Zb1a",
        "outputId": "747206a2-6b86-48d8-af96-bc2bec6025f5"
      },
      "execution_count": null,
      "outputs": [
        {
          "name": "stdout",
          "text": "Test Accuracy: 0.7238\n",
          "output_type": "stream"
        }
      ]
    },
    {
      "cell_type": "code",
      "source": [
        "y_pr = model_rnn.predict(X_test)\n",
        "y_pred_cl = np.argmax(y_pr, axis=1)\n",
        "y_t= np.argmax(y_test, axis=1)\n",
        "\n",
        "# Classification report\n",
        "print(\"Classification Report:\")\n",
        "print(classification_report(y_t, y_pred_cl))"
      ],
      "metadata": {
        "execution": {
          "iopub.status.busy": "2024-08-09T13:43:07.334885Z",
          "iopub.execute_input": "2024-08-09T13:43:07.335196Z",
          "iopub.status.idle": "2024-08-09T13:43:12.124882Z",
          "shell.execute_reply.started": "2024-08-09T13:43:07.335171Z",
          "shell.execute_reply": "2024-08-09T13:43:12.123964Z"
        },
        "trusted": true,
        "id": "MOhzjYfeZb1a",
        "outputId": "f4343343-ce7f-4135-b7fe-dcc2800f2b2f"
      },
      "execution_count": null,
      "outputs": [
        {
          "name": "stdout",
          "text": "\u001b[1m764/764\u001b[0m \u001b[32m━━━━━━━━━━━━━━━━━━━━\u001b[0m\u001b[37m\u001b[0m \u001b[1m4s\u001b[0m 5ms/step\nClassification Report:\n              precision    recall  f1-score   support\n\n           0       0.72      0.58      0.64      4415\n           1       0.78      0.77      0.77      7271\n           2       0.74      0.68      0.71      5970\n           3       0.67      0.80      0.73      6763\n\n    accuracy                           0.72     24419\n   macro avg       0.73      0.71      0.71     24419\nweighted avg       0.73      0.72      0.72     24419\n\n",
          "output_type": "stream"
        }
      ]
    },
    {
      "cell_type": "code",
      "source": [
        "cm = confusion_matrix(y_t, y_pred_cl)\n",
        "sns.heatmap(cm, annot=True, fmt='d', cmap='Blues')\n",
        "plt.xlabel('Predicted')\n",
        "plt.ylabel('True')\n",
        "plt.title('Confusion Matrix')\n",
        "plt.show()"
      ],
      "metadata": {
        "execution": {
          "iopub.status.busy": "2024-08-09T13:43:12.126623Z",
          "iopub.execute_input": "2024-08-09T13:43:12.126886Z",
          "iopub.status.idle": "2024-08-09T13:43:12.377874Z",
          "shell.execute_reply.started": "2024-08-09T13:43:12.126863Z",
          "shell.execute_reply": "2024-08-09T13:43:12.37699Z"
        },
        "trusted": true,
        "id": "lENwqi43Zb1a",
        "outputId": "09d87c87-08e7-4af8-e2eb-9b572d6c10f9"
      },
      "execution_count": null,
      "outputs": [
        {
          "output_type": "display_data",
          "data": {
            "text/plain": "<Figure size 640x480 with 2 Axes>",
            "image/png": "[encoded data removed]"
          },
          "metadata": {}
        }
      ]
    },
    {
      "cell_type": "code",
      "source": [
        "def preprocess_text(text, tokenizer, max_sequence_length):\n",
        "    ps = PorterStemmer()\n",
        "    text = re.sub('[^a-zA-Z]', \" \", text)\n",
        "    text = text.lower()\n",
        "    text = text.split()\n",
        "    text = [word for word in text if word not in stopwords.words('english')]\n",
        "    text = ' '.join(text)\n",
        "    text = ps.stem(text)\n",
        "\n",
        "    sequence = tokenizer.texts_to_sequences([text])\n",
        "\n",
        "    padded_sequence = pad_sequences(sequence, maxlen=max_sequence_length)\n",
        "\n",
        "    return padded_sequence\n",
        "\n",
        "new_tweet = \"I absolutely love this product! It's fantastic.\"\n",
        "\n",
        "processed_tweet = preprocess_text(new_tweet, tokenizer, max_sequence_length)\n",
        "\n",
        "prediction = model_rnn.predict(processed_tweet)\n",
        "predicted_class = np.argmax(prediction, axis=1)[0]\n",
        "\n",
        "class_labels = label_encoder.classes_\n",
        "predicted_sentiment = class_labels[predicted_class]\n",
        "\n",
        "print(f\"Tweet: {new_tweet}\")\n",
        "print(f\"Predicted Sentiment: {predicted_sentiment}\")\n"
      ],
      "metadata": {
        "execution": {
          "iopub.status.busy": "2024-08-09T13:45:35.165346Z",
          "iopub.execute_input": "2024-08-09T13:45:35.166213Z",
          "iopub.status.idle": "2024-08-09T13:45:35.235705Z",
          "shell.execute_reply.started": "2024-08-09T13:45:35.166181Z",
          "shell.execute_reply": "2024-08-09T13:45:35.234771Z"
        },
        "trusted": true,
        "id": "j6GXp-XCZb1a",
        "outputId": "0c5ee4b0-746b-48aa-f2e4-298d5cc32629"
      },
      "execution_count": null,
      "outputs": [
        {
          "name": "stdout",
          "text": "\u001b[1m1/1\u001b[0m \u001b[32m━━━━━━━━━━━━━━━━━━━━\u001b[0m\u001b[37m\u001b[0m \u001b[1m0s\u001b[0m 17ms/step\nTweet: I absolutely love this product! It's fantastic.\nPredicted Sentiment: Positive\n",
          "output_type": "stream"
        }
      ]
    },
    {
      "cell_type": "code",
      "source": [],
      "metadata": {
        "id": "CrpvrSMJZb1b"
      },
      "execution_count": null,
      "outputs": []
    }
  ]
}