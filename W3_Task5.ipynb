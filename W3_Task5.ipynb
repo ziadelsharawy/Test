{
 "cells": [
  {
   "cell_type": "code",
   "execution_count": 21,
   "id": "ca431bbb",
   "metadata": {},
   "outputs": [
    {
     "name": "stdout",
     "output_type": "stream",
     "text": [
      "Number of features: 14\n",
      "$$$$$$$$$$$$$\n",
      "Number of data: 62630\n",
      "$$$$$$$$$$$$$\n",
      "         num  Temperature  Humidity  TVOC  eCO2  Raw_H2  Raw_Ethanol  \\\n",
      "0          0       20.000     57.36     0   400   12306        18520   \n",
      "1          1       20.015     56.67     0   400   12345        18651   \n",
      "2          2       20.029     55.96     0   400   12374        18764   \n",
      "3          3       20.044     55.28     0   400   12390        18849   \n",
      "4          4       20.059     54.69     0   400   12403        18921   \n",
      "...      ...          ...       ...   ...   ...     ...          ...   \n",
      "62625  62625       18.438     15.79   625   400   13723        20569   \n",
      "62626  62626       18.653     15.87   612   400   13731        20588   \n",
      "62627  62627       18.867     15.84   627   400   13725        20582   \n",
      "62628  62628       19.083     16.04   638   400   13712        20566   \n",
      "62629  62629       19.299     16.52   643   400   13696        20543   \n",
      "\n",
      "       Pressure   PM1   PM2   NC0    NC1    NC2   CNT  Fire_Alarm  \n",
      "0       939.735  0.00  0.00  0.00  0.000  0.000     0           0  \n",
      "1       939.744  0.00  0.00  0.00  0.000  0.000     1           0  \n",
      "2       939.738  0.00  0.00  0.00  0.000  0.000     2           0  \n",
      "3       939.736  0.00  0.00  0.00  0.000  0.000     3           0  \n",
      "4       939.744  0.00  0.00  0.00  0.000  0.000     4           0  \n",
      "...         ...   ...   ...   ...    ...    ...   ...         ...  \n",
      "62625   936.670  0.63  0.65  4.32  0.673  0.015  5739           0  \n",
      "62626   936.678  0.61  0.63  4.18  0.652  0.015  5740           0  \n",
      "62627   936.687  0.57  0.60  3.95  0.617  0.014  5741           0  \n",
      "62628   936.680  0.57  0.59  3.92  0.611  0.014  5742           0  \n",
      "62629   936.676  0.57  0.59  3.90  0.607  0.014  5743           0  \n",
      "\n",
      "[62630 rows x 15 columns]\n"
     ]
    }
   ],
   "source": [
    "import pandas as pd\n",
    "path = r'F:\\AI\\ML\\DATA\\smoke_detection_iot.csv'\n",
    "data = pd.read_csv(path)\n",
    "col=0\n",
    "for column in data.columns [1:len(data.columns)-1]:\n",
    "    col+=1   \n",
    "print(\"Number of features:\", col)\n",
    "print(\"$$$$$$$$$$$$$\")\n",
    "data = pd.read_csv(path)\n",
    "num_data = data.shape[0]\n",
    "print(\"Number of data:\", num_data)\n",
    "print(\"$$$$$$$$$$$$$\")\n",
    "data = pd.read_csv(path)\n",
    "data = data.drop(columns=['UTC'])\n",
    "print(data)\n"
   ]
  },
  {
   "cell_type": "code",
   "execution_count": null,
   "id": "38259755",
   "metadata": {},
   "outputs": [],
   "source": []
  },
  {
   "cell_type": "code",
   "execution_count": null,
   "id": "620ad639",
   "metadata": {},
   "outputs": [],
   "source": []
  },
  {
   "cell_type": "code",
   "execution_count": null,
   "id": "57686915",
   "metadata": {},
   "outputs": [],
   "source": []
  }
 ],
 "metadata": {
  "kernelspec": {
   "display_name": "Python 3 (ipykernel)",
   "language": "python",
   "name": "python3"
  },
  "language_info": {
   "codemirror_mode": {
    "name": "ipython",
    "version": 3
   },
   "file_extension": ".py",
   "mimetype": "text/x-python",
   "name": "python",
   "nbconvert_exporter": "python",
   "pygments_lexer": "ipython3",
   "version": "3.10.9"
  }
 },
 "nbformat": 4,
 "nbformat_minor": 5
}
